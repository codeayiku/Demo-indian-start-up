{
 "cells": [
  {
   "cell_type": "markdown",
   "metadata": {},
   "source": [
    "# INDIAN STARTUP ECOSYSTEM ANALYSIS"
   ]
  },
  {
   "cell_type": "markdown",
   "metadata": {},
   "source": [
    "BUSINESS UNDERSTANDING\n",
    "\n",
    "\n",
    "Our team is exploring the Indian startup ecosystem to understand funding trends and identify promising opportunities. The goal is to analyze funding data from 2018 to 2021, focusing on key factors such as the amount of funding received, sectors, stages of investment, and geographic locations\n",
    "\n",
    "\n",
    "\n",
    "HPOTHESIS TESTING\n",
    "\n",
    "\n",
    "Null Hypothesis (H0): There is no significant difference in the amount of funding received by startups across different sectors and stages.\n",
    "\n",
    "\n",
    "\n",
    "Alternate Hypothesis (H1): There is a significant difference in the amount of funding received by startups across different sectors and stages.\n",
    "\n"
   ]
  },
  {
   "cell_type": "markdown",
   "metadata": {},
   "source": [
    "DATA UNDERSTANDING\n",
    "\n",
    "\n",
    "COLUMNS\n",
    "\n",
    "\n",
    "Company_Brand: Name of the startup.\n",
    "\n",
    "Founded: Year the startup was founded.\n",
    "\n",
    "HeadQuarter: City where the startup is headquartered.\n",
    "\n",
    "Sector: Industry sector of the startup.\n",
    "\n",
    "What_it_does: Brief description of the startup's business.\n",
    "\n",
    "Founders: Names of the founders.\n",
    "\n",
    "Investor: Investors or investment firms that funded the startup.\n",
    "\n",
    "Amount: Amount of funding received (in dollars).\n",
    "\n",
    "Stage: Stage of investment (e.g., Pre-seed, Seed, Series A).\n"
   ]
  },
  {
   "cell_type": "markdown",
   "metadata": {},
   "source": [
    "ANALYTICAL QUESTIONS\n",
    "\n",
    "\n",
    "1. Funding Trends:\n",
    "How has the total funding amount changed year over year from 2018 to 2021?\n",
    "\n",
    "How has the average funding amount in each sector changed over the years (2018 - 2021)\n",
    "\n",
    "\n",
    "2. Sector Analysis:\n",
    "Which sectors have received the most funding, and how does the funding distribution vary across sectors?\n",
    "\n",
    "\n",
    "3.Stage Analysis:\n",
    "What is the distribution of funding across different investment stages (e.g., Pre-seed, Seed, Series A)?\n",
    "\n",
    "\n",
    "4. Geographical Analysis:\n",
    "Which cities or regions have the highest concentration of funded startups?\n",
    "\n",
    "\n",
    "5.Investor Influence:\n",
    "Who are the top investors in the Indian startup ecosystem, and what is their funding pattern?\n",
    "\n",
    "\n",
    "6. Founder Impact:\n",
    "Is there a correlation between the number of founders and the amount of funding received?\n",
    "\n",
    "\n",
    "7. What are the characteristics of startups in the highest-funded sectors (e.g., number of founders, location)?\n",
    "\n",
    "\n",
    "8. Which Business is more viable to set - The best performing businesses?\n"
   ]
  },
  {
   "cell_type": "code",
   "execution_count": 647,
   "metadata": {},
   "outputs": [
    {
     "name": "stdout",
     "output_type": "stream",
     "text": [
      "Requirement already satisfied: pyodbc in c:\\users\\admin\\appdata\\local\\programs\\python\\python312\\lib\\site-packages (5.1.0)\n",
      "Note: you may need to restart the kernel to use updated packages.\n",
      "Requirement already satisfied: python-dotenv in c:\\users\\admin\\appdata\\local\\programs\\python\\python312\\lib\\site-packages (1.0.1)\n",
      "Note: you may need to restart the kernel to use updated packages.\n"
     ]
    }
   ],
   "source": [
    "%pip install pyodbc  \n",
    "%pip install python-dotenv "
   ]
  },
  {
   "cell_type": "code",
   "execution_count": 648,
   "metadata": {},
   "outputs": [],
   "source": [
    "import pyodbc     \n",
    "from dotenv import dotenv_values    #import the dotenv_values function from the dotenv package\n",
    "import pandas as pd\n",
    "import numpy as np\n",
    "import warnings \n",
    "\n",
    "warnings.filterwarnings('ignore')"
   ]
  },
  {
   "cell_type": "code",
   "execution_count": 649,
   "metadata": {},
   "outputs": [],
   "source": [
    "# Load environment variables from .env file into a dictionary\n",
    "environment_variables = dotenv_values('.env')\n",
    "\n",
    "# Get the values for the credentials you set in the '.env' file\n",
    "server = environment_variables.get(\"server\")\n",
    "database = environment_variables.get(\"database\")\n",
    "username = environment_variables.get(\"username\")\n",
    "password = environment_variables.get(\"password\")"
   ]
  },
  {
   "cell_type": "code",
   "execution_count": 650,
   "metadata": {},
   "outputs": [],
   "source": [
    "# Create a connection string\n",
    "connection_string = f\"DRIVER={{SQL Server}};SERVER={server};DATABASE={database};UID={username};PWD={password};MARS_Connection=yes;MinProtocolVersion=TLSv1.2;\""
   ]
  },
  {
   "cell_type": "code",
   "execution_count": 651,
   "metadata": {},
   "outputs": [],
   "source": [
    "# This will connect to the server and might take a few seconds to be complete.\n",
    "\n",
    "connection = pyodbc.connect(connection_string)"
   ]
  },
  {
   "cell_type": "markdown",
   "metadata": {},
   "source": [
    "# STARTUP FUNDING 2020"
   ]
  },
  {
   "cell_type": "code",
   "execution_count": 652,
   "metadata": {},
   "outputs": [],
   "source": [
    "# Now the sql query to get the data is what what you see below. \n",
    "# Note that you will not have permissions to insert delete or update this database table. \n",
    "\n",
    "query = '''SELECT * FROM dbo.LP1_startup_funding2020'''\n",
    "\n",
    "data = pd.read_sql(query, connection)"
   ]
  },
  {
   "cell_type": "markdown",
   "metadata": {},
   "source": [
    "# EXPLORING THE DATA"
   ]
  },
  {
   "cell_type": "code",
   "execution_count": 653,
   "metadata": {},
   "outputs": [],
   "source": [
    "import pandas as pd\n",
    "import matplotlib.pyplot as plt\n",
    "import seaborn as sns\n"
   ]
  },
  {
   "cell_type": "code",
   "execution_count": 654,
   "metadata": {},
   "outputs": [
    {
     "data": {
      "text/html": [
       "<div>\n",
       "<style scoped>\n",
       "    .dataframe tbody tr th:only-of-type {\n",
       "        vertical-align: middle;\n",
       "    }\n",
       "\n",
       "    .dataframe tbody tr th {\n",
       "        vertical-align: top;\n",
       "    }\n",
       "\n",
       "    .dataframe thead th {\n",
       "        text-align: right;\n",
       "    }\n",
       "</style>\n",
       "<table border=\"1\" class=\"dataframe\">\n",
       "  <thead>\n",
       "    <tr style=\"text-align: right;\">\n",
       "      <th></th>\n",
       "      <th>Company_Brand</th>\n",
       "      <th>Founded</th>\n",
       "      <th>HeadQuarter</th>\n",
       "      <th>Sector</th>\n",
       "      <th>What_it_does</th>\n",
       "      <th>Founders</th>\n",
       "      <th>Investor</th>\n",
       "      <th>Amount</th>\n",
       "      <th>Stage</th>\n",
       "      <th>column10</th>\n",
       "    </tr>\n",
       "  </thead>\n",
       "  <tbody>\n",
       "    <tr>\n",
       "      <th>0</th>\n",
       "      <td>Aqgromalin</td>\n",
       "      <td>2019.0</td>\n",
       "      <td>Chennai</td>\n",
       "      <td>AgriTech</td>\n",
       "      <td>Cultivating Ideas for Profit</td>\n",
       "      <td>Prasanna Manogaran, Bharani C L</td>\n",
       "      <td>Angel investors</td>\n",
       "      <td>200000.0</td>\n",
       "      <td>None</td>\n",
       "      <td>None</td>\n",
       "    </tr>\n",
       "    <tr>\n",
       "      <th>1</th>\n",
       "      <td>Krayonnz</td>\n",
       "      <td>2019.0</td>\n",
       "      <td>Bangalore</td>\n",
       "      <td>EdTech</td>\n",
       "      <td>An academy-guardian-scholar centric ecosystem ...</td>\n",
       "      <td>Saurabh Dixit, Gurudutt Upadhyay</td>\n",
       "      <td>GSF Accelerator</td>\n",
       "      <td>100000.0</td>\n",
       "      <td>Pre-seed</td>\n",
       "      <td>None</td>\n",
       "    </tr>\n",
       "    <tr>\n",
       "      <th>2</th>\n",
       "      <td>PadCare Labs</td>\n",
       "      <td>2018.0</td>\n",
       "      <td>Pune</td>\n",
       "      <td>Hygiene management</td>\n",
       "      <td>Converting bio-hazardous waste to harmless waste</td>\n",
       "      <td>Ajinkya Dhariya</td>\n",
       "      <td>Venture Center</td>\n",
       "      <td>NaN</td>\n",
       "      <td>Pre-seed</td>\n",
       "      <td>None</td>\n",
       "    </tr>\n",
       "    <tr>\n",
       "      <th>3</th>\n",
       "      <td>NCOME</td>\n",
       "      <td>2020.0</td>\n",
       "      <td>New Delhi</td>\n",
       "      <td>Escrow</td>\n",
       "      <td>Escrow-as-a-service platform</td>\n",
       "      <td>Ritesh Tiwari</td>\n",
       "      <td>Venture Catalysts, PointOne Capital</td>\n",
       "      <td>400000.0</td>\n",
       "      <td>None</td>\n",
       "      <td>None</td>\n",
       "    </tr>\n",
       "    <tr>\n",
       "      <th>4</th>\n",
       "      <td>Gramophone</td>\n",
       "      <td>2016.0</td>\n",
       "      <td>Indore</td>\n",
       "      <td>AgriTech</td>\n",
       "      <td>Gramophone is an AgTech platform enabling acce...</td>\n",
       "      <td>Ashish Rajan Singh, Harshit Gupta, Nishant Mah...</td>\n",
       "      <td>Siana Capital Management, Info Edge</td>\n",
       "      <td>340000.0</td>\n",
       "      <td>None</td>\n",
       "      <td>None</td>\n",
       "    </tr>\n",
       "    <tr>\n",
       "      <th>5</th>\n",
       "      <td>qZense</td>\n",
       "      <td>2019.0</td>\n",
       "      <td>Bangalore</td>\n",
       "      <td>AgriTech</td>\n",
       "      <td>qZense Labs is building the next-generation Io...</td>\n",
       "      <td>Rubal Chib, Dr Srishti Batra</td>\n",
       "      <td>Venture Catalysts, 9Unicorns Accelerator Fund</td>\n",
       "      <td>600000.0</td>\n",
       "      <td>Seed</td>\n",
       "      <td>None</td>\n",
       "    </tr>\n",
       "    <tr>\n",
       "      <th>6</th>\n",
       "      <td>MyClassboard</td>\n",
       "      <td>2008.0</td>\n",
       "      <td>Hyderabad</td>\n",
       "      <td>EdTech</td>\n",
       "      <td>MyClassboard is a full-fledged School / Colleg...</td>\n",
       "      <td>Ajay Sakhamuri</td>\n",
       "      <td>ICICI Bank.</td>\n",
       "      <td>600000.0</td>\n",
       "      <td>Pre-series A</td>\n",
       "      <td>None</td>\n",
       "    </tr>\n",
       "    <tr>\n",
       "      <th>7</th>\n",
       "      <td>Metvy</td>\n",
       "      <td>2018.0</td>\n",
       "      <td>Gurgaon</td>\n",
       "      <td>Networking platform</td>\n",
       "      <td>AI driven networking platform for individuals ...</td>\n",
       "      <td>Shawrya Mehrotra</td>\n",
       "      <td>HostelFund</td>\n",
       "      <td>NaN</td>\n",
       "      <td>Pre-series</td>\n",
       "      <td>None</td>\n",
       "    </tr>\n",
       "    <tr>\n",
       "      <th>8</th>\n",
       "      <td>Rupeek</td>\n",
       "      <td>2015.0</td>\n",
       "      <td>Bangalore</td>\n",
       "      <td>FinTech</td>\n",
       "      <td>Rupeek is an online lending platform that spec...</td>\n",
       "      <td>Amar Prabhu, Ashwin Soni, Sumit Maniyar</td>\n",
       "      <td>KB Investment, Bertelsmann India Investments</td>\n",
       "      <td>45000000.0</td>\n",
       "      <td>Series C</td>\n",
       "      <td>None</td>\n",
       "    </tr>\n",
       "    <tr>\n",
       "      <th>9</th>\n",
       "      <td>Gig India</td>\n",
       "      <td>2017.0</td>\n",
       "      <td>Pune</td>\n",
       "      <td>Crowdsourcing</td>\n",
       "      <td>GigIndia is a marketplace that provides on-dem...</td>\n",
       "      <td>Aditya Shirole, Sahil Sharma</td>\n",
       "      <td>Shantanu Deshpande, Subramaniam Ramadorai</td>\n",
       "      <td>1000000.0</td>\n",
       "      <td>Pre-series A</td>\n",
       "      <td>None</td>\n",
       "    </tr>\n",
       "  </tbody>\n",
       "</table>\n",
       "</div>"
      ],
      "text/plain": [
       "  Company_Brand  Founded HeadQuarter               Sector  \\\n",
       "0    Aqgromalin   2019.0     Chennai             AgriTech   \n",
       "1      Krayonnz   2019.0   Bangalore               EdTech   \n",
       "2  PadCare Labs   2018.0        Pune   Hygiene management   \n",
       "3         NCOME   2020.0   New Delhi               Escrow   \n",
       "4    Gramophone   2016.0      Indore             AgriTech   \n",
       "5        qZense   2019.0   Bangalore             AgriTech   \n",
       "6  MyClassboard   2008.0   Hyderabad               EdTech   \n",
       "7         Metvy   2018.0     Gurgaon  Networking platform   \n",
       "8        Rupeek   2015.0   Bangalore              FinTech   \n",
       "9     Gig India   2017.0        Pune        Crowdsourcing   \n",
       "\n",
       "                                        What_it_does  \\\n",
       "0                       Cultivating Ideas for Profit   \n",
       "1  An academy-guardian-scholar centric ecosystem ...   \n",
       "2   Converting bio-hazardous waste to harmless waste   \n",
       "3                       Escrow-as-a-service platform   \n",
       "4  Gramophone is an AgTech platform enabling acce...   \n",
       "5  qZense Labs is building the next-generation Io...   \n",
       "6  MyClassboard is a full-fledged School / Colleg...   \n",
       "7  AI driven networking platform for individuals ...   \n",
       "8  Rupeek is an online lending platform that spec...   \n",
       "9  GigIndia is a marketplace that provides on-dem...   \n",
       "\n",
       "                                            Founders  \\\n",
       "0                    Prasanna Manogaran, Bharani C L   \n",
       "1                   Saurabh Dixit, Gurudutt Upadhyay   \n",
       "2                                    Ajinkya Dhariya   \n",
       "3                                      Ritesh Tiwari   \n",
       "4  Ashish Rajan Singh, Harshit Gupta, Nishant Mah...   \n",
       "5                       Rubal Chib, Dr Srishti Batra   \n",
       "6                                     Ajay Sakhamuri   \n",
       "7                                   Shawrya Mehrotra   \n",
       "8            Amar Prabhu, Ashwin Soni, Sumit Maniyar   \n",
       "9                       Aditya Shirole, Sahil Sharma   \n",
       "\n",
       "                                        Investor      Amount         Stage  \\\n",
       "0                                Angel investors    200000.0          None   \n",
       "1                                GSF Accelerator    100000.0      Pre-seed   \n",
       "2                                 Venture Center         NaN      Pre-seed   \n",
       "3            Venture Catalysts, PointOne Capital    400000.0          None   \n",
       "4            Siana Capital Management, Info Edge    340000.0          None   \n",
       "5  Venture Catalysts, 9Unicorns Accelerator Fund    600000.0          Seed   \n",
       "6                                    ICICI Bank.    600000.0  Pre-series A   \n",
       "7                                     HostelFund         NaN    Pre-series   \n",
       "8   KB Investment, Bertelsmann India Investments  45000000.0      Series C   \n",
       "9      Shantanu Deshpande, Subramaniam Ramadorai   1000000.0  Pre-series A   \n",
       "\n",
       "  column10  \n",
       "0     None  \n",
       "1     None  \n",
       "2     None  \n",
       "3     None  \n",
       "4     None  \n",
       "5     None  \n",
       "6     None  \n",
       "7     None  \n",
       "8     None  \n",
       "9     None  "
      ]
     },
     "execution_count": 654,
     "metadata": {},
     "output_type": "execute_result"
    }
   ],
   "source": [
    "#Knowing the first 10 rows\n",
    "data.head(10)"
   ]
  },
  {
   "cell_type": "code",
   "execution_count": 655,
   "metadata": {},
   "outputs": [
    {
     "data": {
      "text/html": [
       "<div>\n",
       "<style scoped>\n",
       "    .dataframe tbody tr th:only-of-type {\n",
       "        vertical-align: middle;\n",
       "    }\n",
       "\n",
       "    .dataframe tbody tr th {\n",
       "        vertical-align: top;\n",
       "    }\n",
       "\n",
       "    .dataframe thead th {\n",
       "        text-align: right;\n",
       "    }\n",
       "</style>\n",
       "<table border=\"1\" class=\"dataframe\">\n",
       "  <thead>\n",
       "    <tr style=\"text-align: right;\">\n",
       "      <th></th>\n",
       "      <th>count</th>\n",
       "      <th>mean</th>\n",
       "      <th>std</th>\n",
       "      <th>min</th>\n",
       "      <th>25%</th>\n",
       "      <th>50%</th>\n",
       "      <th>75%</th>\n",
       "      <th>max</th>\n",
       "    </tr>\n",
       "  </thead>\n",
       "  <tbody>\n",
       "    <tr>\n",
       "      <th>Founded</th>\n",
       "      <td>842.0</td>\n",
       "      <td>2.015363e+03</td>\n",
       "      <td>4.097909e+00</td>\n",
       "      <td>1973.0</td>\n",
       "      <td>2014.0</td>\n",
       "      <td>2016.0</td>\n",
       "      <td>2018.0</td>\n",
       "      <td>2.020000e+03</td>\n",
       "    </tr>\n",
       "    <tr>\n",
       "      <th>Amount</th>\n",
       "      <td>801.0</td>\n",
       "      <td>1.130430e+08</td>\n",
       "      <td>2.476635e+09</td>\n",
       "      <td>12700.0</td>\n",
       "      <td>1000000.0</td>\n",
       "      <td>3000000.0</td>\n",
       "      <td>11000000.0</td>\n",
       "      <td>7.000000e+10</td>\n",
       "    </tr>\n",
       "  </tbody>\n",
       "</table>\n",
       "</div>"
      ],
      "text/plain": [
       "         count          mean           std      min        25%        50%  \\\n",
       "Founded  842.0  2.015363e+03  4.097909e+00   1973.0     2014.0     2016.0   \n",
       "Amount   801.0  1.130430e+08  2.476635e+09  12700.0  1000000.0  3000000.0   \n",
       "\n",
       "                75%           max  \n",
       "Founded      2018.0  2.020000e+03  \n",
       "Amount   11000000.0  7.000000e+10  "
      ]
     },
     "execution_count": 655,
     "metadata": {},
     "output_type": "execute_result"
    }
   ],
   "source": [
    "#Summary Statistics\n",
    "data.describe().T"
   ]
  },
  {
   "cell_type": "code",
   "execution_count": 656,
   "metadata": {},
   "outputs": [
    {
     "name": "stdout",
     "output_type": "stream",
     "text": [
      "Company_Brand     object\n",
      "Founded          float64\n",
      "HeadQuarter       object\n",
      "Sector            object\n",
      "What_it_does      object\n",
      "Founders          object\n",
      "Investor          object\n",
      "Amount           float64\n",
      "Stage             object\n",
      "column10          object\n",
      "dtype: object\n"
     ]
    }
   ],
   "source": [
    "# Data types\n",
    "print(data.dtypes)"
   ]
  },
  {
   "cell_type": "code",
   "execution_count": 657,
   "metadata": {},
   "outputs": [
    {
     "data": {
      "text/plain": [
       "Company_Brand    905\n",
       "Founded           26\n",
       "HeadQuarter       77\n",
       "Sector           302\n",
       "What_it_does     990\n",
       "Founders         927\n",
       "Investor         848\n",
       "Amount           300\n",
       "Stage             42\n",
       "column10           2\n",
       "dtype: int64"
      ]
     },
     "execution_count": 657,
     "metadata": {},
     "output_type": "execute_result"
    }
   ],
   "source": [
    "# Unique values in each column\n",
    "data.nunique()"
   ]
  },
  {
   "cell_type": "code",
   "execution_count": 658,
   "metadata": {},
   "outputs": [
    {
     "name": "stdout",
     "output_type": "stream",
     "text": [
      "<class 'pandas.core.frame.DataFrame'>\n",
      "RangeIndex: 1055 entries, 0 to 1054\n",
      "Data columns (total 10 columns):\n",
      " #   Column         Non-Null Count  Dtype  \n",
      "---  ------         --------------  -----  \n",
      " 0   Company_Brand  1055 non-null   object \n",
      " 1   Founded        842 non-null    float64\n",
      " 2   HeadQuarter    961 non-null    object \n",
      " 3   Sector         1042 non-null   object \n",
      " 4   What_it_does   1055 non-null   object \n",
      " 5   Founders       1043 non-null   object \n",
      " 6   Investor       1017 non-null   object \n",
      " 7   Amount         801 non-null    float64\n",
      " 8   Stage          591 non-null    object \n",
      " 9   column10       2 non-null      object \n",
      "dtypes: float64(2), object(8)\n",
      "memory usage: 82.6+ KB\n"
     ]
    }
   ],
   "source": [
    "##Information On Dataset\n",
    "data.info()"
   ]
  },
  {
   "cell_type": "code",
   "execution_count": 659,
   "metadata": {},
   "outputs": [
    {
     "data": {
      "text/plain": [
       "(1055, 10)"
      ]
     },
     "execution_count": 659,
     "metadata": {},
     "output_type": "execute_result"
    }
   ],
   "source": [
    "##\n",
    "data.shape"
   ]
  },
  {
   "cell_type": "code",
   "execution_count": 660,
   "metadata": {},
   "outputs": [
    {
     "data": {
      "text/plain": [
       "3"
      ]
     },
     "execution_count": 660,
     "metadata": {},
     "output_type": "execute_result"
    }
   ],
   "source": [
    "##Duplicates\n",
    "data.duplicated().sum()"
   ]
  },
  {
   "cell_type": "code",
   "execution_count": 661,
   "metadata": {},
   "outputs": [
    {
     "data": {
      "text/plain": [
       "Company_Brand       0\n",
       "Founded           213\n",
       "HeadQuarter        94\n",
       "Sector             13\n",
       "What_it_does        0\n",
       "Founders           12\n",
       "Investor           38\n",
       "Amount            254\n",
       "Stage             464\n",
       "column10         1053\n",
       "dtype: int64"
      ]
     },
     "execution_count": 661,
     "metadata": {},
     "output_type": "execute_result"
    }
   ],
   "source": [
    "## Displaying columns With Missing Values\n",
    "data.isna().sum()"
   ]
  },
  {
   "cell_type": "markdown",
   "metadata": {},
   "source": [
    "# DATA CLEANING"
   ]
  },
  {
   "cell_type": "code",
   "execution_count": 662,
   "metadata": {},
   "outputs": [],
   "source": [
    "#Dropping Columns\n",
    "data.drop(['column10'],axis =1,inplace = True)"
   ]
  },
  {
   "cell_type": "markdown",
   "metadata": {},
   "source": [
    "#Handling missing values\n",
    "For columns like Sector, Founders, and Investor, we decided to  fill missing values with a placeholder.\n",
    "\n",
    "##Handling Columns with Many Missing Values:\n",
    "\n",
    "Columns like Founded, Amount, and Stage have a significant number of missing values. We decided to fill  with median value."
   ]
  },
  {
   "cell_type": "code",
   "execution_count": 663,
   "metadata": {},
   "outputs": [],
   "source": [
    "\n",
    "# For columns with a few missing values, fill with 'Unknown'\n",
    "data['HeadQuarter'].fillna('Unknown', inplace=True)\n",
    "data['Sector'].fillna('Unknown', inplace=True)\n",
    "data['Founders'].fillna('Unknown', inplace=True)\n",
    "data['Investor'].fillna('Unknown', inplace=True)\n",
    "\n",
    "# For 'Founded', fill missing values with the unknown\n",
    "data['Founded'].fillna(0, inplace=True)\n",
    "\n",
    "data['Founded'].fillna('Unknown', inplace=True)\n",
    "\n",
    "# For 'Amount', fill missing values with the median funding amount\n",
    "data['Amount'].fillna(data['Amount'].median(), inplace=True)\n",
    "\n",
    "# For 'Stage', fill missing values with a placeholder\n",
    "data['Stage'].fillna('Unknown', inplace=True)"
   ]
  },
  {
   "cell_type": "code",
   "execution_count": 664,
   "metadata": {},
   "outputs": [],
   "source": [
    "#Treating the 'founded' as Year\n",
    "# Convert 'Founded' to integer type\n",
    "data['Founded'] = data['Founded'].astype(int)"
   ]
  },
  {
   "cell_type": "code",
   "execution_count": 665,
   "metadata": {},
   "outputs": [],
   "source": [
    "#Optimizing Memroy Usage\n",
    "# Convert 'Stage' to categorical type\n",
    "data['Stage'] = data['Stage'].astype('category')"
   ]
  },
  {
   "cell_type": "code",
   "execution_count": 666,
   "metadata": {},
   "outputs": [
    {
     "name": "stdout",
     "output_type": "stream",
     "text": [
      "<class 'pandas.core.frame.DataFrame'>\n",
      "RangeIndex: 1055 entries, 0 to 1054\n",
      "Data columns (total 9 columns):\n",
      " #   Column         Non-Null Count  Dtype   \n",
      "---  ------         --------------  -----   \n",
      " 0   Company_Brand  1055 non-null   object  \n",
      " 1   Founded        1055 non-null   int32   \n",
      " 2   HeadQuarter    1055 non-null   object  \n",
      " 3   Sector         1055 non-null   object  \n",
      " 4   What_it_does   1055 non-null   object  \n",
      " 5   Founders       1055 non-null   object  \n",
      " 6   Investor       1055 non-null   object  \n",
      " 7   Amount         1055 non-null   float64 \n",
      " 8   Stage          1055 non-null   category\n",
      "dtypes: category(1), float64(1), int32(1), object(6)\n",
      "memory usage: 64.4+ KB\n"
     ]
    }
   ],
   "source": [
    "#Verifying the changes\n",
    "data.info()"
   ]
  },
  {
   "cell_type": "code",
   "execution_count": 667,
   "metadata": {},
   "outputs": [
    {
     "name": "stdout",
     "output_type": "stream",
     "text": [
      "    Company_Brand  Founded HeadQuarter                 Sector  \\\n",
      "145     Krimanshi     2015     Jodhpur  Biotechnology company   \n",
      "205         Nykaa     2012      Mumbai              Cosmetics   \n",
      "362        Byju’s     2011   Bangalore                 EdTech   \n",
      "\n",
      "                                          What_it_does         Founders  \\\n",
      "145  Krimanshi aims to increase rural income by imp...     Nikhil Bohra   \n",
      "205  Nykaa is an online marketplace for different b...    Falguni Nayar   \n",
      "362  An Indian educational technology and online tu...  Byju Raveendran   \n",
      "\n",
      "                                           Investor       Amount    Stage  \n",
      "145  Rajasthan Venture Capital Fund, AIM Smart City     600000.0     Seed  \n",
      "205                        Alia Bhatt, Katrina Kaif    3000000.0  Unknown  \n",
      "362           Owl Ventures, Tiger Global Management  500000000.0  Unknown  \n"
     ]
    }
   ],
   "source": [
    "#Identifying Duplicate Rows\n",
    "\n",
    "duplicates = data[data.duplicated()]\n",
    "print(duplicates)"
   ]
  },
  {
   "cell_type": "code",
   "execution_count": 668,
   "metadata": {},
   "outputs": [
    {
     "name": "stdout",
     "output_type": "stream",
     "text": [
      "0\n"
     ]
    }
   ],
   "source": [
    "# # Remove duplicate rows\n",
    "data = data.drop_duplicates()\n",
    "\n",
    "\n",
    "# Verify that duplicates have been removed\n",
    "print(data.duplicated().sum())"
   ]
  },
  {
   "cell_type": "markdown",
   "metadata": {},
   "source": [
    "# STARTUP FUNDING 2021"
   ]
  },
  {
   "cell_type": "code",
   "execution_count": 669,
   "metadata": {},
   "outputs": [],
   "source": [
    "query = '''SELECT * FROM dbo.LP1_startup_funding2021'''\n",
    "data2= pd.read_sql(query, connection)"
   ]
  },
  {
   "cell_type": "code",
   "execution_count": 670,
   "metadata": {},
   "outputs": [
    {
     "data": {
      "text/html": [
       "<div>\n",
       "<style scoped>\n",
       "    .dataframe tbody tr th:only-of-type {\n",
       "        vertical-align: middle;\n",
       "    }\n",
       "\n",
       "    .dataframe tbody tr th {\n",
       "        vertical-align: top;\n",
       "    }\n",
       "\n",
       "    .dataframe thead th {\n",
       "        text-align: right;\n",
       "    }\n",
       "</style>\n",
       "<table border=\"1\" class=\"dataframe\">\n",
       "  <thead>\n",
       "    <tr style=\"text-align: right;\">\n",
       "      <th></th>\n",
       "      <th>Company_Brand</th>\n",
       "      <th>Founded</th>\n",
       "      <th>HeadQuarter</th>\n",
       "      <th>Sector</th>\n",
       "      <th>What_it_does</th>\n",
       "      <th>Founders</th>\n",
       "      <th>Investor</th>\n",
       "      <th>Amount</th>\n",
       "      <th>Stage</th>\n",
       "    </tr>\n",
       "  </thead>\n",
       "  <tbody>\n",
       "    <tr>\n",
       "      <th>0</th>\n",
       "      <td>Unbox Robotics</td>\n",
       "      <td>2019.0</td>\n",
       "      <td>Bangalore</td>\n",
       "      <td>AI startup</td>\n",
       "      <td>Unbox Robotics builds on-demand AI-driven ware...</td>\n",
       "      <td>Pramod Ghadge, Shahid Memon</td>\n",
       "      <td>BEENEXT, Entrepreneur First</td>\n",
       "      <td>$1,200,000</td>\n",
       "      <td>Pre-series A</td>\n",
       "    </tr>\n",
       "    <tr>\n",
       "      <th>1</th>\n",
       "      <td>upGrad</td>\n",
       "      <td>2015.0</td>\n",
       "      <td>Mumbai</td>\n",
       "      <td>EdTech</td>\n",
       "      <td>UpGrad is an online higher education platform.</td>\n",
       "      <td>Mayank Kumar, Phalgun Kompalli, Ravijot Chugh,...</td>\n",
       "      <td>Unilazer Ventures, IIFL Asset Management</td>\n",
       "      <td>$120,000,000</td>\n",
       "      <td>None</td>\n",
       "    </tr>\n",
       "    <tr>\n",
       "      <th>2</th>\n",
       "      <td>Lead School</td>\n",
       "      <td>2012.0</td>\n",
       "      <td>Mumbai</td>\n",
       "      <td>EdTech</td>\n",
       "      <td>LEAD School offers technology based school tra...</td>\n",
       "      <td>Smita Deorah, Sumeet Mehta</td>\n",
       "      <td>GSV Ventures, Westbridge Capital</td>\n",
       "      <td>$30,000,000</td>\n",
       "      <td>Series D</td>\n",
       "    </tr>\n",
       "    <tr>\n",
       "      <th>3</th>\n",
       "      <td>Bizongo</td>\n",
       "      <td>2015.0</td>\n",
       "      <td>Mumbai</td>\n",
       "      <td>B2B E-commerce</td>\n",
       "      <td>Bizongo is a business-to-business online marke...</td>\n",
       "      <td>Aniket Deb, Ankit Tomar, Sachin Agrawal</td>\n",
       "      <td>CDC Group, IDG Capital</td>\n",
       "      <td>$51,000,000</td>\n",
       "      <td>Series C</td>\n",
       "    </tr>\n",
       "    <tr>\n",
       "      <th>4</th>\n",
       "      <td>FypMoney</td>\n",
       "      <td>2021.0</td>\n",
       "      <td>Gurugram</td>\n",
       "      <td>FinTech</td>\n",
       "      <td>FypMoney is Digital NEO Bank for Teenagers, em...</td>\n",
       "      <td>Kapil Banwari</td>\n",
       "      <td>Liberatha Kallat, Mukesh Yadav, Dinesh Nagpal</td>\n",
       "      <td>$2,000,000</td>\n",
       "      <td>Seed</td>\n",
       "    </tr>\n",
       "    <tr>\n",
       "      <th>5</th>\n",
       "      <td>Urban Company</td>\n",
       "      <td>2014.0</td>\n",
       "      <td>New Delhi</td>\n",
       "      <td>Home services</td>\n",
       "      <td>Urban Company (Formerly UrbanClap) is a home a...</td>\n",
       "      <td>Abhiraj Singh Bhal, Raghav Chandra, Varun Khaitan</td>\n",
       "      <td>Vy Capital</td>\n",
       "      <td>$188,000,000</td>\n",
       "      <td>None</td>\n",
       "    </tr>\n",
       "    <tr>\n",
       "      <th>6</th>\n",
       "      <td>Comofi Medtech</td>\n",
       "      <td>2018.0</td>\n",
       "      <td>Bangalore</td>\n",
       "      <td>HealthTech</td>\n",
       "      <td>Comofi Medtech is a healthcare robotics startup.</td>\n",
       "      <td>Gururaj KB</td>\n",
       "      <td>CIIE.CO, KIIT-TBI</td>\n",
       "      <td>$200,000</td>\n",
       "      <td>None</td>\n",
       "    </tr>\n",
       "    <tr>\n",
       "      <th>7</th>\n",
       "      <td>Qube Health</td>\n",
       "      <td>2016.0</td>\n",
       "      <td>Mumbai</td>\n",
       "      <td>HealthTech</td>\n",
       "      <td>India's Most Respected Workplace Healthcare Ma...</td>\n",
       "      <td>Gagan Kapur</td>\n",
       "      <td>Inflection Point Ventures</td>\n",
       "      <td>Undisclosed</td>\n",
       "      <td>Pre-series A</td>\n",
       "    </tr>\n",
       "    <tr>\n",
       "      <th>8</th>\n",
       "      <td>Vitra.ai</td>\n",
       "      <td>2020.0</td>\n",
       "      <td>Bangalore</td>\n",
       "      <td>Tech Startup</td>\n",
       "      <td>Vitra.ai is an AI-based video translation plat...</td>\n",
       "      <td>Akash Nidhi PS</td>\n",
       "      <td>Inflexor Ventures</td>\n",
       "      <td>Undisclosed</td>\n",
       "      <td>None</td>\n",
       "    </tr>\n",
       "    <tr>\n",
       "      <th>9</th>\n",
       "      <td>Taikee</td>\n",
       "      <td>2010.0</td>\n",
       "      <td>Mumbai</td>\n",
       "      <td>E-commerce</td>\n",
       "      <td>Taikee is the ISO-certified, B2B e-commerce pl...</td>\n",
       "      <td>Nidhi Ramachandran, Sachin Chhabra</td>\n",
       "      <td>None</td>\n",
       "      <td>$1,000,000</td>\n",
       "      <td>None</td>\n",
       "    </tr>\n",
       "  </tbody>\n",
       "</table>\n",
       "</div>"
      ],
      "text/plain": [
       "    Company_Brand  Founded HeadQuarter          Sector  \\\n",
       "0  Unbox Robotics   2019.0   Bangalore      AI startup   \n",
       "1          upGrad   2015.0      Mumbai          EdTech   \n",
       "2     Lead School   2012.0      Mumbai          EdTech   \n",
       "3         Bizongo   2015.0      Mumbai  B2B E-commerce   \n",
       "4        FypMoney   2021.0    Gurugram         FinTech   \n",
       "5   Urban Company   2014.0   New Delhi   Home services   \n",
       "6  Comofi Medtech   2018.0   Bangalore      HealthTech   \n",
       "7     Qube Health   2016.0      Mumbai      HealthTech   \n",
       "8        Vitra.ai   2020.0   Bangalore    Tech Startup   \n",
       "9          Taikee   2010.0      Mumbai      E-commerce   \n",
       "\n",
       "                                        What_it_does  \\\n",
       "0  Unbox Robotics builds on-demand AI-driven ware...   \n",
       "1     UpGrad is an online higher education platform.   \n",
       "2  LEAD School offers technology based school tra...   \n",
       "3  Bizongo is a business-to-business online marke...   \n",
       "4  FypMoney is Digital NEO Bank for Teenagers, em...   \n",
       "5  Urban Company (Formerly UrbanClap) is a home a...   \n",
       "6   Comofi Medtech is a healthcare robotics startup.   \n",
       "7  India's Most Respected Workplace Healthcare Ma...   \n",
       "8  Vitra.ai is an AI-based video translation plat...   \n",
       "9  Taikee is the ISO-certified, B2B e-commerce pl...   \n",
       "\n",
       "                                            Founders  \\\n",
       "0                        Pramod Ghadge, Shahid Memon   \n",
       "1  Mayank Kumar, Phalgun Kompalli, Ravijot Chugh,...   \n",
       "2                         Smita Deorah, Sumeet Mehta   \n",
       "3            Aniket Deb, Ankit Tomar, Sachin Agrawal   \n",
       "4                                      Kapil Banwari   \n",
       "5  Abhiraj Singh Bhal, Raghav Chandra, Varun Khaitan   \n",
       "6                                         Gururaj KB   \n",
       "7                                        Gagan Kapur   \n",
       "8                                     Akash Nidhi PS   \n",
       "9                 Nidhi Ramachandran, Sachin Chhabra   \n",
       "\n",
       "                                        Investor        Amount         Stage  \n",
       "0                    BEENEXT, Entrepreneur First    $1,200,000  Pre-series A  \n",
       "1       Unilazer Ventures, IIFL Asset Management  $120,000,000          None  \n",
       "2               GSV Ventures, Westbridge Capital   $30,000,000      Series D  \n",
       "3                         CDC Group, IDG Capital   $51,000,000      Series C  \n",
       "4  Liberatha Kallat, Mukesh Yadav, Dinesh Nagpal    $2,000,000          Seed  \n",
       "5                                     Vy Capital  $188,000,000          None  \n",
       "6                              CIIE.CO, KIIT-TBI      $200,000          None  \n",
       "7                      Inflection Point Ventures   Undisclosed  Pre-series A  \n",
       "8                              Inflexor Ventures   Undisclosed          None  \n",
       "9                                           None    $1,000,000          None  "
      ]
     },
     "execution_count": 670,
     "metadata": {},
     "output_type": "execute_result"
    }
   ],
   "source": [
    "#Knowing the first 10 rows with columns\n",
    "data2.head(10)"
   ]
  },
  {
   "cell_type": "code",
   "execution_count": 671,
   "metadata": {},
   "outputs": [
    {
     "data": {
      "text/html": [
       "<div>\n",
       "<style scoped>\n",
       "    .dataframe tbody tr th:only-of-type {\n",
       "        vertical-align: middle;\n",
       "    }\n",
       "\n",
       "    .dataframe tbody tr th {\n",
       "        vertical-align: top;\n",
       "    }\n",
       "\n",
       "    .dataframe thead th {\n",
       "        text-align: right;\n",
       "    }\n",
       "</style>\n",
       "<table border=\"1\" class=\"dataframe\">\n",
       "  <thead>\n",
       "    <tr style=\"text-align: right;\">\n",
       "      <th></th>\n",
       "      <th>Company_Brand</th>\n",
       "      <th>Founded</th>\n",
       "      <th>HeadQuarter</th>\n",
       "      <th>Sector</th>\n",
       "      <th>What_it_does</th>\n",
       "      <th>Founders</th>\n",
       "      <th>Investor</th>\n",
       "      <th>Amount</th>\n",
       "      <th>Stage</th>\n",
       "    </tr>\n",
       "  </thead>\n",
       "  <tbody>\n",
       "    <tr>\n",
       "      <th>1199</th>\n",
       "      <td>Proeon</td>\n",
       "      <td>2018.0</td>\n",
       "      <td>Pune</td>\n",
       "      <td>Food Production</td>\n",
       "      <td>Innovating plant protein ingredients with supe...</td>\n",
       "      <td>Ashish Korde, Kevin Parekh</td>\n",
       "      <td>Shaival Desai, Flowstate Ventures</td>\n",
       "      <td>$2000000</td>\n",
       "      <td>Seed</td>\n",
       "    </tr>\n",
       "    <tr>\n",
       "      <th>1200</th>\n",
       "      <td>InfyU Labs</td>\n",
       "      <td>2019.0</td>\n",
       "      <td>Gandhinagar</td>\n",
       "      <td>AgriTech</td>\n",
       "      <td>InfyU Labs is a team of dedicated professional...</td>\n",
       "      <td>Amit Srivastava, Ankit Chauhan</td>\n",
       "      <td>IAN</td>\n",
       "      <td>$200000</td>\n",
       "      <td>Seed</td>\n",
       "    </tr>\n",
       "    <tr>\n",
       "      <th>1201</th>\n",
       "      <td>TechEagle</td>\n",
       "      <td>2015.0</td>\n",
       "      <td>Gurugram</td>\n",
       "      <td>Aviation &amp; Aerospace</td>\n",
       "      <td>Safe, secure &amp; reliable On-Demand Drone delive...</td>\n",
       "      <td>Vikram Singh Meena</td>\n",
       "      <td>India Accelerator</td>\n",
       "      <td>$500000</td>\n",
       "      <td>Seed</td>\n",
       "    </tr>\n",
       "    <tr>\n",
       "      <th>1202</th>\n",
       "      <td>Voxelgrids</td>\n",
       "      <td>2017.0</td>\n",
       "      <td>Bangalore</td>\n",
       "      <td>Deeptech</td>\n",
       "      <td>Voxelgrids is an Magnetic Resonance Imaging te...</td>\n",
       "      <td>Arjun Arunachalam</td>\n",
       "      <td>Zoho</td>\n",
       "      <td>$5000000</td>\n",
       "      <td>None</td>\n",
       "    </tr>\n",
       "    <tr>\n",
       "      <th>1203</th>\n",
       "      <td>Cogos Technologies</td>\n",
       "      <td>2016.0</td>\n",
       "      <td>Bangalore</td>\n",
       "      <td>Logistics &amp; Supply Chain</td>\n",
       "      <td>A smart-tech-enabled platform offering a one-s...</td>\n",
       "      <td>Prasad Sreeram</td>\n",
       "      <td>Transworld Group</td>\n",
       "      <td>$2000000</td>\n",
       "      <td>Pre-series A</td>\n",
       "    </tr>\n",
       "    <tr>\n",
       "      <th>1204</th>\n",
       "      <td>Gigforce</td>\n",
       "      <td>2019.0</td>\n",
       "      <td>Gurugram</td>\n",
       "      <td>Staffing &amp; Recruiting</td>\n",
       "      <td>A gig/on-demand staffing company.</td>\n",
       "      <td>Chirag Mittal, Anirudh Syal</td>\n",
       "      <td>Endiya Partners</td>\n",
       "      <td>$3000000</td>\n",
       "      <td>Pre-series A</td>\n",
       "    </tr>\n",
       "    <tr>\n",
       "      <th>1205</th>\n",
       "      <td>Vahdam</td>\n",
       "      <td>2015.0</td>\n",
       "      <td>New Delhi</td>\n",
       "      <td>Food &amp; Beverages</td>\n",
       "      <td>VAHDAM is among the world’s first vertically i...</td>\n",
       "      <td>Bala Sarda</td>\n",
       "      <td>IIFL AMC</td>\n",
       "      <td>$20000000</td>\n",
       "      <td>Series D</td>\n",
       "    </tr>\n",
       "    <tr>\n",
       "      <th>1206</th>\n",
       "      <td>Leap Finance</td>\n",
       "      <td>2019.0</td>\n",
       "      <td>Bangalore</td>\n",
       "      <td>Financial Services</td>\n",
       "      <td>International education loans for high potenti...</td>\n",
       "      <td>Arnav Kumar, Vaibhav Singh</td>\n",
       "      <td>Owl Ventures</td>\n",
       "      <td>$55000000</td>\n",
       "      <td>Series C</td>\n",
       "    </tr>\n",
       "    <tr>\n",
       "      <th>1207</th>\n",
       "      <td>CollegeDekho</td>\n",
       "      <td>2015.0</td>\n",
       "      <td>Gurugram</td>\n",
       "      <td>EdTech</td>\n",
       "      <td>Collegedekho.com is Student’s Partner, Friend ...</td>\n",
       "      <td>Ruchir Arora</td>\n",
       "      <td>Winter Capital, ETS, Man Capital</td>\n",
       "      <td>$26000000</td>\n",
       "      <td>Series B</td>\n",
       "    </tr>\n",
       "    <tr>\n",
       "      <th>1208</th>\n",
       "      <td>WeRize</td>\n",
       "      <td>2019.0</td>\n",
       "      <td>Bangalore</td>\n",
       "      <td>Financial Services</td>\n",
       "      <td>India’s first socially distributed full stack ...</td>\n",
       "      <td>Vishal Chopra, Himanshu Gupta</td>\n",
       "      <td>3one4 Capital, Kalaari Capital</td>\n",
       "      <td>$8000000</td>\n",
       "      <td>Series A</td>\n",
       "    </tr>\n",
       "  </tbody>\n",
       "</table>\n",
       "</div>"
      ],
      "text/plain": [
       "           Company_Brand  Founded  HeadQuarter                    Sector  \\\n",
       "1199              Proeon   2018.0         Pune           Food Production   \n",
       "1200          InfyU Labs   2019.0  Gandhinagar                  AgriTech   \n",
       "1201           TechEagle   2015.0     Gurugram      Aviation & Aerospace   \n",
       "1202          Voxelgrids   2017.0    Bangalore                  Deeptech   \n",
       "1203  Cogos Technologies   2016.0    Bangalore  Logistics & Supply Chain   \n",
       "1204            Gigforce   2019.0     Gurugram     Staffing & Recruiting   \n",
       "1205              Vahdam   2015.0    New Delhi          Food & Beverages   \n",
       "1206        Leap Finance   2019.0    Bangalore        Financial Services   \n",
       "1207        CollegeDekho   2015.0     Gurugram                    EdTech   \n",
       "1208              WeRize   2019.0    Bangalore        Financial Services   \n",
       "\n",
       "                                           What_it_does  \\\n",
       "1199  Innovating plant protein ingredients with supe...   \n",
       "1200  InfyU Labs is a team of dedicated professional...   \n",
       "1201  Safe, secure & reliable On-Demand Drone delive...   \n",
       "1202  Voxelgrids is an Magnetic Resonance Imaging te...   \n",
       "1203  A smart-tech-enabled platform offering a one-s...   \n",
       "1204                  A gig/on-demand staffing company.   \n",
       "1205  VAHDAM is among the world’s first vertically i...   \n",
       "1206  International education loans for high potenti...   \n",
       "1207  Collegedekho.com is Student’s Partner, Friend ...   \n",
       "1208  India’s first socially distributed full stack ...   \n",
       "\n",
       "                            Founders                           Investor  \\\n",
       "1199      Ashish Korde, Kevin Parekh  Shaival Desai, Flowstate Ventures   \n",
       "1200  Amit Srivastava, Ankit Chauhan                                IAN   \n",
       "1201              Vikram Singh Meena                  India Accelerator   \n",
       "1202               Arjun Arunachalam                               Zoho   \n",
       "1203                  Prasad Sreeram                   Transworld Group   \n",
       "1204     Chirag Mittal, Anirudh Syal                    Endiya Partners   \n",
       "1205                      Bala Sarda                           IIFL AMC   \n",
       "1206      Arnav Kumar, Vaibhav Singh                       Owl Ventures   \n",
       "1207                    Ruchir Arora   Winter Capital, ETS, Man Capital   \n",
       "1208   Vishal Chopra, Himanshu Gupta     3one4 Capital, Kalaari Capital   \n",
       "\n",
       "         Amount         Stage  \n",
       "1199   $2000000          Seed  \n",
       "1200    $200000          Seed  \n",
       "1201    $500000          Seed  \n",
       "1202   $5000000          None  \n",
       "1203   $2000000  Pre-series A  \n",
       "1204   $3000000  Pre-series A  \n",
       "1205  $20000000      Series D  \n",
       "1206  $55000000      Series C  \n",
       "1207  $26000000      Series B  \n",
       "1208   $8000000      Series A  "
      ]
     },
     "execution_count": 671,
     "metadata": {},
     "output_type": "execute_result"
    }
   ],
   "source": [
    "data2.tail(10)"
   ]
  },
  {
   "cell_type": "code",
   "execution_count": 672,
   "metadata": {},
   "outputs": [
    {
     "data": {
      "text/html": [
       "<div>\n",
       "<style scoped>\n",
       "    .dataframe tbody tr th:only-of-type {\n",
       "        vertical-align: middle;\n",
       "    }\n",
       "\n",
       "    .dataframe tbody tr th {\n",
       "        vertical-align: top;\n",
       "    }\n",
       "\n",
       "    .dataframe thead th {\n",
       "        text-align: right;\n",
       "    }\n",
       "</style>\n",
       "<table border=\"1\" class=\"dataframe\">\n",
       "  <thead>\n",
       "    <tr style=\"text-align: right;\">\n",
       "      <th></th>\n",
       "      <th>count</th>\n",
       "      <th>mean</th>\n",
       "      <th>std</th>\n",
       "      <th>min</th>\n",
       "      <th>25%</th>\n",
       "      <th>50%</th>\n",
       "      <th>75%</th>\n",
       "      <th>max</th>\n",
       "    </tr>\n",
       "  </thead>\n",
       "  <tbody>\n",
       "    <tr>\n",
       "      <th>Founded</th>\n",
       "      <td>1208.0</td>\n",
       "      <td>2016.655629</td>\n",
       "      <td>4.517364</td>\n",
       "      <td>1963.0</td>\n",
       "      <td>2015.0</td>\n",
       "      <td>2018.0</td>\n",
       "      <td>2020.0</td>\n",
       "      <td>2021.0</td>\n",
       "    </tr>\n",
       "  </tbody>\n",
       "</table>\n",
       "</div>"
      ],
      "text/plain": [
       "          count         mean       std     min     25%     50%     75%     max\n",
       "Founded  1208.0  2016.655629  4.517364  1963.0  2015.0  2018.0  2020.0  2021.0"
      ]
     },
     "execution_count": 672,
     "metadata": {},
     "output_type": "execute_result"
    }
   ],
   "source": [
    "#Summary statistics\n",
    "data2.describe().T"
   ]
  },
  {
   "cell_type": "code",
   "execution_count": 673,
   "metadata": {},
   "outputs": [
    {
     "name": "stdout",
     "output_type": "stream",
     "text": [
      "Company_Brand     object\n",
      "Founded          float64\n",
      "HeadQuarter       object\n",
      "Sector            object\n",
      "What_it_does      object\n",
      "Founders          object\n",
      "Investor          object\n",
      "Amount            object\n",
      "Stage             object\n",
      "dtype: object\n"
     ]
    }
   ],
   "source": [
    "# Data types\n",
    "print(data2.dtypes)"
   ]
  },
  {
   "cell_type": "code",
   "execution_count": 674,
   "metadata": {},
   "outputs": [
    {
     "data": {
      "text/plain": [
       "Company_Brand    1033\n",
       "Founded            30\n",
       "HeadQuarter        70\n",
       "Sector            254\n",
       "What_it_does     1143\n",
       "Founders         1095\n",
       "Investor          937\n",
       "Amount            278\n",
       "Stage              31\n",
       "dtype: int64"
      ]
     },
     "execution_count": 674,
     "metadata": {},
     "output_type": "execute_result"
    }
   ],
   "source": [
    "# Unique values in each column\n",
    "data2.nunique()"
   ]
  },
  {
   "cell_type": "code",
   "execution_count": 675,
   "metadata": {},
   "outputs": [
    {
     "name": "stdout",
     "output_type": "stream",
     "text": [
      "<class 'pandas.core.frame.DataFrame'>\n",
      "RangeIndex: 1209 entries, 0 to 1208\n",
      "Data columns (total 9 columns):\n",
      " #   Column         Non-Null Count  Dtype  \n",
      "---  ------         --------------  -----  \n",
      " 0   Company_Brand  1209 non-null   object \n",
      " 1   Founded        1208 non-null   float64\n",
      " 2   HeadQuarter    1208 non-null   object \n",
      " 3   Sector         1209 non-null   object \n",
      " 4   What_it_does   1209 non-null   object \n",
      " 5   Founders       1205 non-null   object \n",
      " 6   Investor       1147 non-null   object \n",
      " 7   Amount         1206 non-null   object \n",
      " 8   Stage          781 non-null    object \n",
      "dtypes: float64(1), object(8)\n",
      "memory usage: 85.1+ KB\n"
     ]
    }
   ],
   "source": [
    "#Information on the data\n",
    "data2.info()"
   ]
  },
  {
   "cell_type": "code",
   "execution_count": 676,
   "metadata": {},
   "outputs": [
    {
     "data": {
      "text/plain": [
       "(1209, 9)"
      ]
     },
     "execution_count": 676,
     "metadata": {},
     "output_type": "execute_result"
    }
   ],
   "source": [
    "data2.shape"
   ]
  },
  {
   "cell_type": "code",
   "execution_count": 677,
   "metadata": {},
   "outputs": [
    {
     "data": {
      "text/plain": [
       "19"
      ]
     },
     "execution_count": 677,
     "metadata": {},
     "output_type": "execute_result"
    }
   ],
   "source": [
    "##Duplicates\n",
    "data2.duplicated().sum()"
   ]
  },
  {
   "cell_type": "code",
   "execution_count": 678,
   "metadata": {},
   "outputs": [
    {
     "data": {
      "text/plain": [
       "Company_Brand      0\n",
       "Founded            1\n",
       "HeadQuarter        1\n",
       "Sector             0\n",
       "What_it_does       0\n",
       "Founders           4\n",
       "Investor          62\n",
       "Amount             3\n",
       "Stage            428\n",
       "dtype: int64"
      ]
     },
     "execution_count": 678,
     "metadata": {},
     "output_type": "execute_result"
    }
   ],
   "source": [
    "## Displaying columns With Missing Values\n",
    "data2.isna().sum()"
   ]
  },
  {
   "cell_type": "markdown",
   "metadata": {},
   "source": [
    "#CLEANING THE DATA"
   ]
  },
  {
   "cell_type": "code",
   "execution_count": 679,
   "metadata": {},
   "outputs": [],
   "source": [
    "# Handle missing values\n",
    "# Filling The Year Founded with 0 and converting from  object to Integer\n",
    "data2['Founded'] = data2['Founded'].fillna(0).astype(int)\n",
    "\n",
    "##Converting Headquarter, Founders and Investor with 'Unknown'\n",
    "data2['HeadQuarter'].fillna('Unknown', inplace=True)\n",
    "data2['Founders'].fillna('Unknown', inplace = True)\n",
    "data2['Investor'].fillna('Unknown' ,inplace  = True)\n",
    "\n"
   ]
  },
  {
   "cell_type": "code",
   "execution_count": 680,
   "metadata": {},
   "outputs": [],
   "source": [
    "##Converting Amount to float and filling missing values with 0\n",
    "#data2['Amount'].data2['Amount'].fillna(0)\n",
    "#data2['Amount'] = data2['Amount'].fillna(0)\n",
    "#data2['Amount'] = data['Amount'].astype(float)\n",
    "# Step 1: Convert all values in the 'Amount' column to strings\n",
    "data2['Amount'] = data2['Amount'].astype(str)\n",
    "\n",
    "# Step 2: Remove any non-numeric characters such as '$' and ','\n",
    "data2['Amount'] = data2['Amount'].str.replace('[\\$,]', '', regex=True)\n",
    "\n",
    "# Step 3: Replace 'undisclosed' with NaN\n",
    "data2['Amount'].replace('undisclosed', np.nan, inplace=True)\n",
    "\n",
    "# Step 4: Convert the column to numeric (float), ignoring errors\n",
    "data2['Amount'] = pd.to_numeric(data2['Amount'], errors='coerce')\n",
    "\n",
    "# Step 5: Fill NaN values with 0\n",
    "data2['Amount'].fillna(0, inplace=True)\n"
   ]
  },
  {
   "cell_type": "code",
   "execution_count": 681,
   "metadata": {},
   "outputs": [
    {
     "name": "stdout",
     "output_type": "stream",
     "text": [
      "       Company_Brand  Founded HeadQuarter                 Sector  \\\n",
      "0     Unbox Robotics     2019   Bangalore             AI startup   \n",
      "1             upGrad     2015      Mumbai                 EdTech   \n",
      "2        Lead School     2012      Mumbai                 EdTech   \n",
      "3            Bizongo     2015      Mumbai         B2B E-commerce   \n",
      "4           FypMoney     2021    Gurugram                FinTech   \n",
      "...              ...      ...         ...                    ...   \n",
      "1204        Gigforce     2019    Gurugram  Staffing & Recruiting   \n",
      "1205          Vahdam     2015   New Delhi       Food & Beverages   \n",
      "1206    Leap Finance     2019   Bangalore     Financial Services   \n",
      "1207    CollegeDekho     2015    Gurugram                 EdTech   \n",
      "1208          WeRize     2019   Bangalore     Financial Services   \n",
      "\n",
      "                                           What_it_does  \\\n",
      "0     Unbox Robotics builds on-demand AI-driven ware...   \n",
      "1        UpGrad is an online higher education platform.   \n",
      "2     LEAD School offers technology based school tra...   \n",
      "3     Bizongo is a business-to-business online marke...   \n",
      "4     FypMoney is Digital NEO Bank for Teenagers, em...   \n",
      "...                                                 ...   \n",
      "1204                  A gig/on-demand staffing company.   \n",
      "1205  VAHDAM is among the world’s first vertically i...   \n",
      "1206  International education loans for high potenti...   \n",
      "1207  Collegedekho.com is Student’s Partner, Friend ...   \n",
      "1208  India’s first socially distributed full stack ...   \n",
      "\n",
      "                                               Founders  \\\n",
      "0                           Pramod Ghadge, Shahid Memon   \n",
      "1     Mayank Kumar, Phalgun Kompalli, Ravijot Chugh,...   \n",
      "2                            Smita Deorah, Sumeet Mehta   \n",
      "3               Aniket Deb, Ankit Tomar, Sachin Agrawal   \n",
      "4                                         Kapil Banwari   \n",
      "...                                                 ...   \n",
      "1204                        Chirag Mittal, Anirudh Syal   \n",
      "1205                                         Bala Sarda   \n",
      "1206                         Arnav Kumar, Vaibhav Singh   \n",
      "1207                                       Ruchir Arora   \n",
      "1208                      Vishal Chopra, Himanshu Gupta   \n",
      "\n",
      "                                           Investor       Amount         Stage  \n",
      "0                       BEENEXT, Entrepreneur First    1200000.0  Pre-series A  \n",
      "1          Unilazer Ventures, IIFL Asset Management  120000000.0       Unknown  \n",
      "2                  GSV Ventures, Westbridge Capital   30000000.0      Series D  \n",
      "3                            CDC Group, IDG Capital   51000000.0      Series C  \n",
      "4     Liberatha Kallat, Mukesh Yadav, Dinesh Nagpal    2000000.0          Seed  \n",
      "...                                             ...          ...           ...  \n",
      "1204                                Endiya Partners    3000000.0  Pre-series A  \n",
      "1205                                       IIFL AMC   20000000.0      Series D  \n",
      "1206                                   Owl Ventures   55000000.0      Series C  \n",
      "1207               Winter Capital, ETS, Man Capital   26000000.0      Series B  \n",
      "1208                 3one4 Capital, Kalaari Capital    8000000.0      Series A  \n",
      "\n",
      "[1209 rows x 9 columns]\n"
     ]
    }
   ],
   "source": [
    "#Optimizing Memroy Usage\n",
    "# Convert 'Stage' to categorical type\n",
    "#data2['Stage'] = data2['Stage'].astype('category')\n",
    "# For 'Stage', fill missing values with a placeholder\n",
    "#data2['Stage'].fillna('Unknown', inplace=True)\n",
    "\n",
    "# Step 1: Convert 'Stage' to categorical type\n",
    "data2['Stage'] = data2['Stage'].astype('category')\n",
    "\n",
    "# Step 2: Add 'Unknown' to the categories\n",
    "data2['Stage'] = data2['Stage'].cat.add_categories('Unknown')\n",
    "\n",
    "# Step 3: Fill missing values with 'Unknown'\n",
    "data2['Stage'].fillna('Unknown', inplace=True)\n",
    "\n",
    "print(data2)\n"
   ]
  },
  {
   "cell_type": "code",
   "execution_count": 682,
   "metadata": {},
   "outputs": [
    {
     "name": "stdout",
     "output_type": "stream",
     "text": [
      "Company_Brand    0\n",
      "Founded          0\n",
      "HeadQuarter      0\n",
      "Sector           0\n",
      "What_it_does     0\n",
      "Founders         0\n",
      "Investor         0\n",
      "Amount           0\n",
      "Stage            0\n",
      "dtype: int64\n"
     ]
    }
   ],
   "source": [
    "# Verify missing values are handled\n",
    "print(data2.isnull().sum())"
   ]
  },
  {
   "cell_type": "code",
   "execution_count": 683,
   "metadata": {},
   "outputs": [
    {
     "name": "stdout",
     "output_type": "stream",
     "text": [
      "          Company_Brand  Founded             HeadQuarter  \\\n",
      "107           Curefoods     2020               Bangalore   \n",
      "109            Bewakoof     2012                  Mumbai   \n",
      "111             FanPlay     2020          Computer Games   \n",
      "117      Advantage Club     2014                  Mumbai   \n",
      "119              Ruptok     2020               New Delhi   \n",
      "243            Trinkerr     2021               Bangalore   \n",
      "244               Zorro     2021                Gurugram   \n",
      "245       Ultraviolette     2021               Bangalore   \n",
      "246          NephroPlus     2009               Hyderabad   \n",
      "247             Unremot     2020               Bangalore   \n",
      "248         FanAnywhere     2021               Bangalore   \n",
      "249          PingoLearn     2021                    Pune   \n",
      "250                Spry     2021                  Mumbai   \n",
      "251             Enmovil     2015               Hyderabad   \n",
      "252       ASQI Advisors     2019                  Mumbai   \n",
      "253  Insurance Samadhan     2018               New Delhi   \n",
      "254     Evenflow Brands     2020                  Mumbai   \n",
      "255          MasterChow     2020        Food & Beverages   \n",
      "256  Fullife Healthcare     2009  Pharmaceuticals\\t#REF!   \n",
      "\n",
      "                                                Sector  \\\n",
      "107                                   Food & Beverages   \n",
      "109                                  Apparel & Fashion   \n",
      "111                                     Computer Games   \n",
      "117                                             HRTech   \n",
      "119                                            FinTech   \n",
      "243                                    Capital Markets   \n",
      "244                                     Social network   \n",
      "245                                         Automotive   \n",
      "246                             Hospital & Health Care   \n",
      "247                  Information Technology & Services   \n",
      "248                                 Financial Services   \n",
      "249                                         E-learning   \n",
      "250                                              Music   \n",
      "251                  Information Technology & Services   \n",
      "252                                 Financial Services   \n",
      "253                                          Insurance   \n",
      "254                                     Consumer Goods   \n",
      "255                                          Hauz Khas   \n",
      "256  Primary Business is Development and Manufactur...   \n",
      "\n",
      "                                          What_it_does  \\\n",
      "107  Healthy & nutritious foods and cold pressed ju...   \n",
      "109  Bewakoof is a lifestyle fashion brand that mak...   \n",
      "111  A real money game app specializing in trivia g...   \n",
      "117  Advantage Club is India's largest employee eng...   \n",
      "119  Ruptok fintech Pvt. Ltd. is an online gold loa...   \n",
      "243  Trinkerr is India's first social trading platf...   \n",
      "244               Pseudonymous social network platform   \n",
      "245  Create and Inspire the future of sustainable u...   \n",
      "246  A vision and passion of redefining healthcare ...   \n",
      "247      Unremot is a personal office for consultants!   \n",
      "248                             Celebrity NFT platform   \n",
      "249  PingoLearn offers language learning courses wi...   \n",
      "250  THE BEST ROYALTY-FREE MUSIC TO CREATE TRENDING...   \n",
      "251  Enmovil delivers a Business Intelligence Platf...   \n",
      "252  Bringing Blockchain technology intro mainstrea...   \n",
      "253  The insurance industry will help in representa...   \n",
      "254  Identify and partner with the upcoming eCommer...   \n",
      "255                A ready-to-cook Asian cuisine brand   \n",
      "256                                       Varun Khanna   \n",
      "\n",
      "                                          Founders  \\\n",
      "107                                   Ankit Nagori   \n",
      "109                               Prabhkiran Singh   \n",
      "111                                         YC W21   \n",
      "117             Sourabh Deorah, Smiti Bhatt Deorah   \n",
      "119                                    Ankur Gupta   \n",
      "243                Manvendra Singh, Gaurav Agarwal   \n",
      "244  Jasveer Singh, Abhishek Asthana, Deepak Kumar   \n",
      "245            Subramaniam Narayan, Niraj Rajmohan   \n",
      "246                                 Vikram Vuppala   \n",
      "247                            Shiju Radhakrishnan   \n",
      "248                    Varun Chaudhary, Amit Kumar   \n",
      "249             Mohit Menghani, Shubham Maheshwari   \n",
      "250                Gaurav Dagaonkar, Meghna Mittal   \n",
      "251     Ravi Bulusu, Nanda Kishore, Venkat Moganty   \n",
      "252                                  Swapnil Pawar   \n",
      "253                     Deepak Bhuvenshwari Uniyal   \n",
      "254                  Utsav Agarwal, Pulkit Chhabra   \n",
      "255                  Vidur Kataria, Sidhanth Madan   \n",
      "256             Morgan Stanley Private Equity Asia   \n",
      "\n",
      "                                              Investor       Amount  \\\n",
      "107                Iron Pillar, Nordstar, Binny Bansal   13000000.0   \n",
      "109                                         InvestCorp    8000000.0   \n",
      "111                        Pritesh Kumar, Bharat Gupta          0.0   \n",
      "117           Y Combinator, Broom Ventures, Kunal Shah    1700000.0   \n",
      "119                                     Eclear Leasing    1000000.0   \n",
      "243                                        Accel India    6600000.0   \n",
      "244  Vijay Shekhar Sharma, Ritesh Agarwal, Ankiti Bose   32000000.0   \n",
      "245                                    TVS Motor, Zoho  150000000.0   \n",
      "246                              IIFL Asset Management   24000000.0   \n",
      "247                          Inflection Point Ventures     700000.0   \n",
      "248        Oasis Capital, Scorpio VC, DeltaHub Capital          0.0   \n",
      "249  Titan Capital, Haresh Chawla, AngelList Syndicate     200000.0   \n",
      "250                          9Unicorns, Ashneer Grover    1500000.0   \n",
      "251                                  Anicut Angel Fund    1300000.0   \n",
      "252                              Founders Room Capital    1000000.0   \n",
      "253                                     9Unicorns, ZNL     725000.0   \n",
      "254                                            Unknown     500000.0   \n",
      "255                                       WEH Ventures     461000.0   \n",
      "256                                          $22000000          0.0   \n",
      "\n",
      "            Stage  \n",
      "107       Unknown  \n",
      "109       Unknown  \n",
      "111      $1200000  \n",
      "117       Unknown  \n",
      "119       Unknown  \n",
      "243      Series A  \n",
      "244          Seed  \n",
      "245      Series C  \n",
      "246      Series E  \n",
      "247          Seed  \n",
      "248          Seed  \n",
      "249       Unknown  \n",
      "250          Seed  \n",
      "251  Pre-series A  \n",
      "252  Pre-series A  \n",
      "253  Pre-series A  \n",
      "254       Unknown  \n",
      "255          Seed  \n",
      "256       Unknown  \n"
     ]
    }
   ],
   "source": [
    "#Identifying Duplicate Rows\n",
    "\n",
    "duplicates = data2[data2.duplicated()]\n",
    "print(duplicates)"
   ]
  },
  {
   "cell_type": "code",
   "execution_count": 684,
   "metadata": {},
   "outputs": [
    {
     "name": "stdout",
     "output_type": "stream",
     "text": [
      "0\n"
     ]
    }
   ],
   "source": [
    "# # Remove duplicate rows\n",
    "data2 = data2.drop_duplicates()\n",
    "\n",
    "\n",
    "# Verify that duplicates have been removed\n",
    "print(data2.duplicated().sum())"
   ]
  },
  {
   "cell_type": "code",
   "execution_count": 685,
   "metadata": {},
   "outputs": [
    {
     "name": "stdout",
     "output_type": "stream",
     "text": [
      "<class 'pandas.core.frame.DataFrame'>\n",
      "Index: 1190 entries, 0 to 1208\n",
      "Data columns (total 9 columns):\n",
      " #   Column         Non-Null Count  Dtype   \n",
      "---  ------         --------------  -----   \n",
      " 0   Company_Brand  1190 non-null   object  \n",
      " 1   Founded        1190 non-null   int32   \n",
      " 2   HeadQuarter    1190 non-null   object  \n",
      " 3   Sector         1190 non-null   object  \n",
      " 4   What_it_does   1190 non-null   object  \n",
      " 5   Founders       1190 non-null   object  \n",
      " 6   Investor       1190 non-null   object  \n",
      " 7   Amount         1190 non-null   float64 \n",
      " 8   Stage          1190 non-null   category\n",
      "dtypes: category(1), float64(1), int32(1), object(6)\n",
      "memory usage: 81.5+ KB\n"
     ]
    }
   ],
   "source": [
    "data2.info()"
   ]
  },
  {
   "cell_type": "markdown",
   "metadata": {},
   "source": [
    "# STARTUP FUNDING 2018"
   ]
  },
  {
   "cell_type": "code",
   "execution_count": 686,
   "metadata": {},
   "outputs": [
    {
     "data": {
      "text/html": [
       "<div>\n",
       "<style scoped>\n",
       "    .dataframe tbody tr th:only-of-type {\n",
       "        vertical-align: middle;\n",
       "    }\n",
       "\n",
       "    .dataframe tbody tr th {\n",
       "        vertical-align: top;\n",
       "    }\n",
       "\n",
       "    .dataframe thead th {\n",
       "        text-align: right;\n",
       "    }\n",
       "</style>\n",
       "<table border=\"1\" class=\"dataframe\">\n",
       "  <thead>\n",
       "    <tr style=\"text-align: right;\">\n",
       "      <th></th>\n",
       "      <th>Company Name</th>\n",
       "      <th>Industry</th>\n",
       "      <th>Round/Series</th>\n",
       "      <th>Amount</th>\n",
       "      <th>Location</th>\n",
       "      <th>About Company</th>\n",
       "    </tr>\n",
       "  </thead>\n",
       "  <tbody>\n",
       "    <tr>\n",
       "      <th>0</th>\n",
       "      <td>TheCollegeFever</td>\n",
       "      <td>Brand Marketing, Event Promotion, Marketing, S...</td>\n",
       "      <td>Seed</td>\n",
       "      <td>250000</td>\n",
       "      <td>Bangalore, Karnataka, India</td>\n",
       "      <td>TheCollegeFever is a hub for fun, fiesta and f...</td>\n",
       "    </tr>\n",
       "    <tr>\n",
       "      <th>1</th>\n",
       "      <td>Happy Cow Dairy</td>\n",
       "      <td>Agriculture, Farming</td>\n",
       "      <td>Seed</td>\n",
       "      <td>₹40,000,000</td>\n",
       "      <td>Mumbai, Maharashtra, India</td>\n",
       "      <td>A startup which aggregates milk from dairy far...</td>\n",
       "    </tr>\n",
       "    <tr>\n",
       "      <th>2</th>\n",
       "      <td>MyLoanCare</td>\n",
       "      <td>Credit, Financial Services, Lending, Marketplace</td>\n",
       "      <td>Series A</td>\n",
       "      <td>₹65,000,000</td>\n",
       "      <td>Gurgaon, Haryana, India</td>\n",
       "      <td>Leading Online Loans Marketplace in India</td>\n",
       "    </tr>\n",
       "    <tr>\n",
       "      <th>3</th>\n",
       "      <td>PayMe India</td>\n",
       "      <td>Financial Services, FinTech</td>\n",
       "      <td>Angel</td>\n",
       "      <td>2000000</td>\n",
       "      <td>Noida, Uttar Pradesh, India</td>\n",
       "      <td>PayMe India is an innovative FinTech organizat...</td>\n",
       "    </tr>\n",
       "    <tr>\n",
       "      <th>4</th>\n",
       "      <td>Eunimart</td>\n",
       "      <td>E-Commerce Platforms, Retail, SaaS</td>\n",
       "      <td>Seed</td>\n",
       "      <td>—</td>\n",
       "      <td>Hyderabad, Andhra Pradesh, India</td>\n",
       "      <td>Eunimart is a one stop solution for merchants ...</td>\n",
       "    </tr>\n",
       "    <tr>\n",
       "      <th>...</th>\n",
       "      <td>...</td>\n",
       "      <td>...</td>\n",
       "      <td>...</td>\n",
       "      <td>...</td>\n",
       "      <td>...</td>\n",
       "      <td>...</td>\n",
       "    </tr>\n",
       "    <tr>\n",
       "      <th>521</th>\n",
       "      <td>Udaan</td>\n",
       "      <td>B2B, Business Development, Internet, Marketplace</td>\n",
       "      <td>Series C</td>\n",
       "      <td>225000000</td>\n",
       "      <td>Bangalore, Karnataka, India</td>\n",
       "      <td>Udaan is a B2B trade platform, designed specif...</td>\n",
       "    </tr>\n",
       "    <tr>\n",
       "      <th>522</th>\n",
       "      <td>Happyeasygo Group</td>\n",
       "      <td>Tourism, Travel</td>\n",
       "      <td>Series A</td>\n",
       "      <td>—</td>\n",
       "      <td>Haryana, Haryana, India</td>\n",
       "      <td>HappyEasyGo is an online travel domain.</td>\n",
       "    </tr>\n",
       "    <tr>\n",
       "      <th>523</th>\n",
       "      <td>Mombay</td>\n",
       "      <td>Food and Beverage, Food Delivery, Internet</td>\n",
       "      <td>Seed</td>\n",
       "      <td>7500</td>\n",
       "      <td>Mumbai, Maharashtra, India</td>\n",
       "      <td>Mombay is a unique opportunity for housewives ...</td>\n",
       "    </tr>\n",
       "    <tr>\n",
       "      <th>524</th>\n",
       "      <td>Droni Tech</td>\n",
       "      <td>Information Technology</td>\n",
       "      <td>Seed</td>\n",
       "      <td>₹35,000,000</td>\n",
       "      <td>Mumbai, Maharashtra, India</td>\n",
       "      <td>Droni Tech manufacture UAVs and develop softwa...</td>\n",
       "    </tr>\n",
       "    <tr>\n",
       "      <th>525</th>\n",
       "      <td>Netmeds</td>\n",
       "      <td>Biotechnology, Health Care, Pharmaceutical</td>\n",
       "      <td>Series C</td>\n",
       "      <td>35000000</td>\n",
       "      <td>Chennai, Tamil Nadu, India</td>\n",
       "      <td>Welcome to India's most convenient pharmacy!</td>\n",
       "    </tr>\n",
       "  </tbody>\n",
       "</table>\n",
       "<p>526 rows × 6 columns</p>\n",
       "</div>"
      ],
      "text/plain": [
       "          Company Name                                           Industry  \\\n",
       "0      TheCollegeFever  Brand Marketing, Event Promotion, Marketing, S...   \n",
       "1      Happy Cow Dairy                               Agriculture, Farming   \n",
       "2           MyLoanCare   Credit, Financial Services, Lending, Marketplace   \n",
       "3          PayMe India                        Financial Services, FinTech   \n",
       "4             Eunimart                 E-Commerce Platforms, Retail, SaaS   \n",
       "..                 ...                                                ...   \n",
       "521              Udaan   B2B, Business Development, Internet, Marketplace   \n",
       "522  Happyeasygo Group                                    Tourism, Travel   \n",
       "523             Mombay         Food and Beverage, Food Delivery, Internet   \n",
       "524         Droni Tech                             Information Technology   \n",
       "525            Netmeds         Biotechnology, Health Care, Pharmaceutical   \n",
       "\n",
       "    Round/Series       Amount                          Location  \\\n",
       "0           Seed       250000       Bangalore, Karnataka, India   \n",
       "1           Seed  ₹40,000,000        Mumbai, Maharashtra, India   \n",
       "2       Series A  ₹65,000,000           Gurgaon, Haryana, India   \n",
       "3          Angel      2000000       Noida, Uttar Pradesh, India   \n",
       "4           Seed            —  Hyderabad, Andhra Pradesh, India   \n",
       "..           ...          ...                               ...   \n",
       "521     Series C    225000000       Bangalore, Karnataka, India   \n",
       "522     Series A            —           Haryana, Haryana, India   \n",
       "523         Seed         7500        Mumbai, Maharashtra, India   \n",
       "524         Seed  ₹35,000,000        Mumbai, Maharashtra, India   \n",
       "525     Series C     35000000        Chennai, Tamil Nadu, India   \n",
       "\n",
       "                                         About Company  \n",
       "0    TheCollegeFever is a hub for fun, fiesta and f...  \n",
       "1    A startup which aggregates milk from dairy far...  \n",
       "2            Leading Online Loans Marketplace in India  \n",
       "3    PayMe India is an innovative FinTech organizat...  \n",
       "4    Eunimart is a one stop solution for merchants ...  \n",
       "..                                                 ...  \n",
       "521  Udaan is a B2B trade platform, designed specif...  \n",
       "522            HappyEasyGo is an online travel domain.  \n",
       "523  Mombay is a unique opportunity for housewives ...  \n",
       "524  Droni Tech manufacture UAVs and develop softwa...  \n",
       "525       Welcome to India's most convenient pharmacy!  \n",
       "\n",
       "[526 rows x 6 columns]"
      ]
     },
     "execution_count": 686,
     "metadata": {},
     "output_type": "execute_result"
    }
   ],
   "source": [
    "data3 = pd.read_csv('C:\\\\Users\\Admin\\\\Pictures\\\\Demo Indian Startup\\\\Demo-indian-start-up\\\\Notebooks\\\\startup_funding2018.csv')\n",
    "data3"
   ]
  },
  {
   "cell_type": "code",
   "execution_count": 687,
   "metadata": {},
   "outputs": [
    {
     "name": "stdout",
     "output_type": "stream",
     "text": [
      "<class 'pandas.core.frame.DataFrame'>\n",
      "RangeIndex: 526 entries, 0 to 525\n",
      "Data columns (total 6 columns):\n",
      " #   Column         Non-Null Count  Dtype \n",
      "---  ------         --------------  ----- \n",
      " 0   Company Name   526 non-null    object\n",
      " 1   Industry       526 non-null    object\n",
      " 2   Round/Series   526 non-null    object\n",
      " 3   Amount         526 non-null    object\n",
      " 4   Location       526 non-null    object\n",
      " 5   About Company  526 non-null    object\n",
      "dtypes: object(6)\n",
      "memory usage: 24.8+ KB\n"
     ]
    }
   ],
   "source": [
    "data3.info()"
   ]
  },
  {
   "cell_type": "code",
   "execution_count": 688,
   "metadata": {},
   "outputs": [
    {
     "data": {
      "text/html": [
       "<div>\n",
       "<style scoped>\n",
       "    .dataframe tbody tr th:only-of-type {\n",
       "        vertical-align: middle;\n",
       "    }\n",
       "\n",
       "    .dataframe tbody tr th {\n",
       "        vertical-align: top;\n",
       "    }\n",
       "\n",
       "    .dataframe thead th {\n",
       "        text-align: right;\n",
       "    }\n",
       "</style>\n",
       "<table border=\"1\" class=\"dataframe\">\n",
       "  <thead>\n",
       "    <tr style=\"text-align: right;\">\n",
       "      <th></th>\n",
       "      <th>count</th>\n",
       "      <th>unique</th>\n",
       "      <th>top</th>\n",
       "      <th>freq</th>\n",
       "    </tr>\n",
       "  </thead>\n",
       "  <tbody>\n",
       "    <tr>\n",
       "      <th>Company Name</th>\n",
       "      <td>526</td>\n",
       "      <td>525</td>\n",
       "      <td>TheCollegeFever</td>\n",
       "      <td>2</td>\n",
       "    </tr>\n",
       "    <tr>\n",
       "      <th>Industry</th>\n",
       "      <td>526</td>\n",
       "      <td>405</td>\n",
       "      <td>—</td>\n",
       "      <td>30</td>\n",
       "    </tr>\n",
       "    <tr>\n",
       "      <th>Round/Series</th>\n",
       "      <td>526</td>\n",
       "      <td>21</td>\n",
       "      <td>Seed</td>\n",
       "      <td>280</td>\n",
       "    </tr>\n",
       "    <tr>\n",
       "      <th>Amount</th>\n",
       "      <td>526</td>\n",
       "      <td>198</td>\n",
       "      <td>—</td>\n",
       "      <td>148</td>\n",
       "    </tr>\n",
       "    <tr>\n",
       "      <th>Location</th>\n",
       "      <td>526</td>\n",
       "      <td>50</td>\n",
       "      <td>Bangalore, Karnataka, India</td>\n",
       "      <td>102</td>\n",
       "    </tr>\n",
       "    <tr>\n",
       "      <th>About Company</th>\n",
       "      <td>526</td>\n",
       "      <td>524</td>\n",
       "      <td>TheCollegeFever is a hub for fun, fiesta and f...</td>\n",
       "      <td>2</td>\n",
       "    </tr>\n",
       "  </tbody>\n",
       "</table>\n",
       "</div>"
      ],
      "text/plain": [
       "              count unique                                                top  \\\n",
       "Company Name    526    525                                    TheCollegeFever   \n",
       "Industry        526    405                                                  —   \n",
       "Round/Series    526     21                                               Seed   \n",
       "Amount          526    198                                                  —   \n",
       "Location        526     50                        Bangalore, Karnataka, India   \n",
       "About Company   526    524  TheCollegeFever is a hub for fun, fiesta and f...   \n",
       "\n",
       "              freq  \n",
       "Company Name     2  \n",
       "Industry        30  \n",
       "Round/Series   280  \n",
       "Amount         148  \n",
       "Location       102  \n",
       "About Company    2  "
      ]
     },
     "execution_count": 688,
     "metadata": {},
     "output_type": "execute_result"
    }
   ],
   "source": [
    "data3.describe().T"
   ]
  },
  {
   "cell_type": "code",
   "execution_count": 689,
   "metadata": {},
   "outputs": [
    {
     "data": {
      "text/plain": [
       "Company Name     object\n",
       "Industry         object\n",
       "Round/Series     object\n",
       "Amount           object\n",
       "Location         object\n",
       "About Company    object\n",
       "dtype: object"
      ]
     },
     "execution_count": 689,
     "metadata": {},
     "output_type": "execute_result"
    }
   ],
   "source": [
    "data3.dtypes"
   ]
  },
  {
   "cell_type": "code",
   "execution_count": 690,
   "metadata": {},
   "outputs": [
    {
     "data": {
      "text/plain": [
       "Company Name     525\n",
       "Industry         405\n",
       "Round/Series      21\n",
       "Amount           198\n",
       "Location          50\n",
       "About Company    524\n",
       "dtype: int64"
      ]
     },
     "execution_count": 690,
     "metadata": {},
     "output_type": "execute_result"
    }
   ],
   "source": [
    "data3.nunique()"
   ]
  },
  {
   "cell_type": "code",
   "execution_count": 691,
   "metadata": {},
   "outputs": [
    {
     "data": {
      "text/plain": [
       "(526, 6)"
      ]
     },
     "execution_count": 691,
     "metadata": {},
     "output_type": "execute_result"
    }
   ],
   "source": [
    "data3.shape"
   ]
  },
  {
   "cell_type": "code",
   "execution_count": 692,
   "metadata": {},
   "outputs": [
    {
     "data": {
      "text/plain": [
       "1"
      ]
     },
     "execution_count": 692,
     "metadata": {},
     "output_type": "execute_result"
    }
   ],
   "source": [
    "data3.duplicated().sum()"
   ]
  },
  {
   "cell_type": "code",
   "execution_count": 708,
   "metadata": {},
   "outputs": [
    {
     "data": {
      "text/plain": [
       "Company Name     0\n",
       "Industry         0\n",
       "Round/Series     0\n",
       "Amount           0\n",
       "Location         0\n",
       "About Company    0\n",
       "dtype: int64"
      ]
     },
     "execution_count": 708,
     "metadata": {},
     "output_type": "execute_result"
    }
   ],
   "source": [
    "data3.isna().sum()"
   ]
  },
  {
   "cell_type": "markdown",
   "metadata": {},
   "source": [
    "#CLEANING\n",
    "\n"
   ]
  },
  {
   "cell_type": "code",
   "execution_count": 694,
   "metadata": {},
   "outputs": [
    {
     "name": "stdout",
     "output_type": "stream",
     "text": [
      "float64\n"
     ]
    }
   ],
   "source": [
    "#Converting 'Amount' to Float\n",
    "data3['Amount'] =pd.to_numeric(data3['Amount'], errors='coerce')\n",
    " \n",
    "# Check to confirm 'Amount Column is float\n",
    "data3['Amount'] = data3['Amount'].astype(float)\n",
    " \n",
    "print(data3['Amount'].dtype)\n",
    " "
   ]
  },
  {
   "cell_type": "code",
   "execution_count": 709,
   "metadata": {},
   "outputs": [],
   "source": [
    "# Step 1: Convert all values in the 'Amount' column to strings\n",
    "data3['Amount'] = data3['Amount'].astype(str)\n",
    "\n",
    "# Step 2: Remove any non-numeric characters such as '$' and ','\n",
    "data3['Amount'] = data3['Amount'].str.replace('[\\₹,]', '', regex=True)\n",
    "\n",
    "# Step 3: Replace 'undisclosed' with NaN\n",
    "data3['Amount'].replace('undisclosed', np.nan, inplace=True)\n",
    "\n",
    "# Step 4: Convert the column to numeric (float), ignoring errors\n",
    "data3['Amount'] = pd.to_numeric(data3['Amount'], errors='coerce')\n",
    "\n",
    "# Step 5: Fill NaN values with 0\n",
    "data3['Amount'].fillna(0, inplace=True)"
   ]
  },
  {
   "cell_type": "code",
   "execution_count": 696,
   "metadata": {},
   "outputs": [
    {
     "name": "stdout",
     "output_type": "stream",
     "text": [
      "<class 'pandas.core.frame.DataFrame'>\n",
      "RangeIndex: 526 entries, 0 to 525\n",
      "Data columns (total 6 columns):\n",
      " #   Column         Non-Null Count  Dtype  \n",
      "---  ------         --------------  -----  \n",
      " 0   Company Name   526 non-null    object \n",
      " 1   Industry       526 non-null    object \n",
      " 2   Round/Series   526 non-null    object \n",
      " 3   Amount         526 non-null    float64\n",
      " 4   Location       526 non-null    object \n",
      " 5   About Company  526 non-null    object \n",
      "dtypes: float64(1), object(5)\n",
      "memory usage: 24.8+ KB\n"
     ]
    }
   ],
   "source": [
    "data3.info()"
   ]
  },
  {
   "cell_type": "code",
   "execution_count": 697,
   "metadata": {},
   "outputs": [
    {
     "name": "stdout",
     "output_type": "stream",
     "text": [
      "0\n"
     ]
    }
   ],
   "source": [
    "data3 = data3.drop_duplicates()\n",
    "\n",
    "\n",
    "# Verify that duplicates have been removed\n",
    "print(data3.duplicated().sum())"
   ]
  },
  {
   "cell_type": "markdown",
   "metadata": {},
   "source": [
    "# STARTUP FUNDING 2019"
   ]
  },
  {
   "cell_type": "code",
   "execution_count": 698,
   "metadata": {},
   "outputs": [
    {
     "data": {
      "text/html": [
       "<div>\n",
       "<style scoped>\n",
       "    .dataframe tbody tr th:only-of-type {\n",
       "        vertical-align: middle;\n",
       "    }\n",
       "\n",
       "    .dataframe tbody tr th {\n",
       "        vertical-align: top;\n",
       "    }\n",
       "\n",
       "    .dataframe thead th {\n",
       "        text-align: right;\n",
       "    }\n",
       "</style>\n",
       "<table border=\"1\" class=\"dataframe\">\n",
       "  <thead>\n",
       "    <tr style=\"text-align: right;\">\n",
       "      <th></th>\n",
       "      <th>Company/Brand</th>\n",
       "      <th>Founded</th>\n",
       "      <th>HeadQuarter</th>\n",
       "      <th>Sector</th>\n",
       "      <th>What it does</th>\n",
       "      <th>Founders</th>\n",
       "      <th>Investor</th>\n",
       "      <th>Amount($)</th>\n",
       "      <th>Stage</th>\n",
       "    </tr>\n",
       "  </thead>\n",
       "  <tbody>\n",
       "    <tr>\n",
       "      <th>0</th>\n",
       "      <td>Bombay Shaving</td>\n",
       "      <td>NaN</td>\n",
       "      <td>NaN</td>\n",
       "      <td>Ecommerce</td>\n",
       "      <td>Provides a range of male grooming products</td>\n",
       "      <td>Shantanu Deshpande</td>\n",
       "      <td>Sixth Sense Ventures</td>\n",
       "      <td>$6,300,000</td>\n",
       "      <td>NaN</td>\n",
       "    </tr>\n",
       "    <tr>\n",
       "      <th>1</th>\n",
       "      <td>Ruangguru</td>\n",
       "      <td>2014.0</td>\n",
       "      <td>Mumbai</td>\n",
       "      <td>Edtech</td>\n",
       "      <td>A learning platform that provides topic-based ...</td>\n",
       "      <td>Adamas Belva Syah Devara, Iman Usman.</td>\n",
       "      <td>General Atlantic</td>\n",
       "      <td>$150,000,000</td>\n",
       "      <td>Series C</td>\n",
       "    </tr>\n",
       "    <tr>\n",
       "      <th>2</th>\n",
       "      <td>Eduisfun</td>\n",
       "      <td>NaN</td>\n",
       "      <td>Mumbai</td>\n",
       "      <td>Edtech</td>\n",
       "      <td>It aims to make learning fun via games.</td>\n",
       "      <td>Jatin Solanki</td>\n",
       "      <td>Deepak Parekh, Amitabh Bachchan, Piyush Pandey</td>\n",
       "      <td>$28,000,000</td>\n",
       "      <td>Fresh funding</td>\n",
       "    </tr>\n",
       "    <tr>\n",
       "      <th>3</th>\n",
       "      <td>HomeLane</td>\n",
       "      <td>2014.0</td>\n",
       "      <td>Chennai</td>\n",
       "      <td>Interior design</td>\n",
       "      <td>Provides interior designing solutions</td>\n",
       "      <td>Srikanth Iyer, Rama Harinath</td>\n",
       "      <td>Evolvence India Fund (EIF), Pidilite Group, FJ...</td>\n",
       "      <td>$30,000,000</td>\n",
       "      <td>Series D</td>\n",
       "    </tr>\n",
       "    <tr>\n",
       "      <th>4</th>\n",
       "      <td>Nu Genes</td>\n",
       "      <td>2004.0</td>\n",
       "      <td>Telangana</td>\n",
       "      <td>AgriTech</td>\n",
       "      <td>It is a seed company engaged in production, pr...</td>\n",
       "      <td>Narayana Reddy Punyala</td>\n",
       "      <td>Innovation in Food and Agriculture (IFA)</td>\n",
       "      <td>$6,000,000</td>\n",
       "      <td>NaN</td>\n",
       "    </tr>\n",
       "    <tr>\n",
       "      <th>...</th>\n",
       "      <td>...</td>\n",
       "      <td>...</td>\n",
       "      <td>...</td>\n",
       "      <td>...</td>\n",
       "      <td>...</td>\n",
       "      <td>...</td>\n",
       "      <td>...</td>\n",
       "      <td>...</td>\n",
       "      <td>...</td>\n",
       "    </tr>\n",
       "    <tr>\n",
       "      <th>84</th>\n",
       "      <td>Infra.Market</td>\n",
       "      <td>NaN</td>\n",
       "      <td>Mumbai</td>\n",
       "      <td>Infratech</td>\n",
       "      <td>It connects client requirements to their suppl...</td>\n",
       "      <td>Aaditya Sharda, Souvik Sengupta</td>\n",
       "      <td>Tiger Global, Nexus Venture Partners, Accel Pa...</td>\n",
       "      <td>$20,000,000</td>\n",
       "      <td>Series A</td>\n",
       "    </tr>\n",
       "    <tr>\n",
       "      <th>85</th>\n",
       "      <td>Oyo</td>\n",
       "      <td>2013.0</td>\n",
       "      <td>Gurugram</td>\n",
       "      <td>Hospitality</td>\n",
       "      <td>Provides rooms for comfortable stay</td>\n",
       "      <td>Ritesh Agarwal</td>\n",
       "      <td>MyPreferred Transformation, Avendus Finance, S...</td>\n",
       "      <td>$693,000,000</td>\n",
       "      <td>NaN</td>\n",
       "    </tr>\n",
       "    <tr>\n",
       "      <th>86</th>\n",
       "      <td>GoMechanic</td>\n",
       "      <td>2016.0</td>\n",
       "      <td>Delhi</td>\n",
       "      <td>Automobile &amp; Technology</td>\n",
       "      <td>Find automobile repair and maintenance service...</td>\n",
       "      <td>Amit Bhasin, Kushal Karwa, Nitin Rana, Rishabh...</td>\n",
       "      <td>Sequoia Capital</td>\n",
       "      <td>$5,000,000</td>\n",
       "      <td>Series B</td>\n",
       "    </tr>\n",
       "    <tr>\n",
       "      <th>87</th>\n",
       "      <td>Spinny</td>\n",
       "      <td>2015.0</td>\n",
       "      <td>Delhi</td>\n",
       "      <td>Automobile</td>\n",
       "      <td>Online car retailer</td>\n",
       "      <td>Niraj Singh, Ramanshu Mahaur, Ganesh Pawar, Mo...</td>\n",
       "      <td>Norwest Venture Partners, General Catalyst, Fu...</td>\n",
       "      <td>$50,000,000</td>\n",
       "      <td>NaN</td>\n",
       "    </tr>\n",
       "    <tr>\n",
       "      <th>88</th>\n",
       "      <td>Ess Kay Fincorp</td>\n",
       "      <td>NaN</td>\n",
       "      <td>Rajasthan</td>\n",
       "      <td>Banking</td>\n",
       "      <td>Organised Non-Banking Finance Company</td>\n",
       "      <td>Rajendra Setia</td>\n",
       "      <td>TPG, Norwest Venture Partners, Evolvence India</td>\n",
       "      <td>$33,000,000</td>\n",
       "      <td>NaN</td>\n",
       "    </tr>\n",
       "  </tbody>\n",
       "</table>\n",
       "<p>89 rows × 9 columns</p>\n",
       "</div>"
      ],
      "text/plain": [
       "      Company/Brand  Founded HeadQuarter                   Sector  \\\n",
       "0    Bombay Shaving      NaN         NaN                Ecommerce   \n",
       "1         Ruangguru   2014.0      Mumbai                   Edtech   \n",
       "2          Eduisfun      NaN      Mumbai                   Edtech   \n",
       "3          HomeLane   2014.0     Chennai          Interior design   \n",
       "4          Nu Genes   2004.0   Telangana                 AgriTech   \n",
       "..              ...      ...         ...                      ...   \n",
       "84     Infra.Market      NaN      Mumbai                Infratech   \n",
       "85              Oyo   2013.0    Gurugram              Hospitality   \n",
       "86       GoMechanic   2016.0       Delhi  Automobile & Technology   \n",
       "87           Spinny   2015.0       Delhi               Automobile   \n",
       "88  Ess Kay Fincorp      NaN   Rajasthan                  Banking   \n",
       "\n",
       "                                         What it does  \\\n",
       "0          Provides a range of male grooming products   \n",
       "1   A learning platform that provides topic-based ...   \n",
       "2             It aims to make learning fun via games.   \n",
       "3               Provides interior designing solutions   \n",
       "4   It is a seed company engaged in production, pr...   \n",
       "..                                                ...   \n",
       "84  It connects client requirements to their suppl...   \n",
       "85                Provides rooms for comfortable stay   \n",
       "86  Find automobile repair and maintenance service...   \n",
       "87                                Online car retailer   \n",
       "88              Organised Non-Banking Finance Company   \n",
       "\n",
       "                                             Founders  \\\n",
       "0                                  Shantanu Deshpande   \n",
       "1               Adamas Belva Syah Devara, Iman Usman.   \n",
       "2                                       Jatin Solanki   \n",
       "3                        Srikanth Iyer, Rama Harinath   \n",
       "4                              Narayana Reddy Punyala   \n",
       "..                                                ...   \n",
       "84                    Aaditya Sharda, Souvik Sengupta   \n",
       "85                                     Ritesh Agarwal   \n",
       "86  Amit Bhasin, Kushal Karwa, Nitin Rana, Rishabh...   \n",
       "87  Niraj Singh, Ramanshu Mahaur, Ganesh Pawar, Mo...   \n",
       "88                                     Rajendra Setia   \n",
       "\n",
       "                                             Investor     Amount($)  \\\n",
       "0                                Sixth Sense Ventures    $6,300,000   \n",
       "1                                    General Atlantic  $150,000,000   \n",
       "2      Deepak Parekh, Amitabh Bachchan, Piyush Pandey   $28,000,000   \n",
       "3   Evolvence India Fund (EIF), Pidilite Group, FJ...   $30,000,000   \n",
       "4            Innovation in Food and Agriculture (IFA)    $6,000,000   \n",
       "..                                                ...           ...   \n",
       "84  Tiger Global, Nexus Venture Partners, Accel Pa...   $20,000,000   \n",
       "85  MyPreferred Transformation, Avendus Finance, S...  $693,000,000   \n",
       "86                                    Sequoia Capital    $5,000,000   \n",
       "87  Norwest Venture Partners, General Catalyst, Fu...   $50,000,000   \n",
       "88     TPG, Norwest Venture Partners, Evolvence India   $33,000,000   \n",
       "\n",
       "            Stage  \n",
       "0             NaN  \n",
       "1        Series C  \n",
       "2   Fresh funding  \n",
       "3        Series D  \n",
       "4             NaN  \n",
       "..            ...  \n",
       "84       Series A  \n",
       "85            NaN  \n",
       "86       Series B  \n",
       "87            NaN  \n",
       "88            NaN  \n",
       "\n",
       "[89 rows x 9 columns]"
      ]
     },
     "execution_count": 698,
     "metadata": {},
     "output_type": "execute_result"
    }
   ],
   "source": [
    "data4= pd.read_csv('C:\\\\Users\\\\Admin\\\\Pictures\\\\Demo Indian Startup\\\\Demo-indian-start-up\\\\Notebooks\\\\startup_funding2019.csv')\n",
    "data4                  "
   ]
  },
  {
   "cell_type": "code",
   "execution_count": 699,
   "metadata": {},
   "outputs": [
    {
     "name": "stdout",
     "output_type": "stream",
     "text": [
      "<class 'pandas.core.frame.DataFrame'>\n",
      "RangeIndex: 89 entries, 0 to 88\n",
      "Data columns (total 9 columns):\n",
      " #   Column         Non-Null Count  Dtype  \n",
      "---  ------         --------------  -----  \n",
      " 0   Company/Brand  89 non-null     object \n",
      " 1   Founded        60 non-null     float64\n",
      " 2   HeadQuarter    70 non-null     object \n",
      " 3   Sector         84 non-null     object \n",
      " 4   What it does   89 non-null     object \n",
      " 5   Founders       86 non-null     object \n",
      " 6   Investor       89 non-null     object \n",
      " 7   Amount($)      89 non-null     object \n",
      " 8   Stage          43 non-null     object \n",
      "dtypes: float64(1), object(8)\n",
      "memory usage: 6.4+ KB\n"
     ]
    }
   ],
   "source": [
    "data4.info()"
   ]
  },
  {
   "cell_type": "code",
   "execution_count": 700,
   "metadata": {},
   "outputs": [
    {
     "data": {
      "text/html": [
       "<div>\n",
       "<style scoped>\n",
       "    .dataframe tbody tr th:only-of-type {\n",
       "        vertical-align: middle;\n",
       "    }\n",
       "\n",
       "    .dataframe tbody tr th {\n",
       "        vertical-align: top;\n",
       "    }\n",
       "\n",
       "    .dataframe thead th {\n",
       "        text-align: right;\n",
       "    }\n",
       "</style>\n",
       "<table border=\"1\" class=\"dataframe\">\n",
       "  <thead>\n",
       "    <tr style=\"text-align: right;\">\n",
       "      <th></th>\n",
       "      <th>count</th>\n",
       "      <th>mean</th>\n",
       "      <th>std</th>\n",
       "      <th>min</th>\n",
       "      <th>25%</th>\n",
       "      <th>50%</th>\n",
       "      <th>75%</th>\n",
       "      <th>max</th>\n",
       "    </tr>\n",
       "  </thead>\n",
       "  <tbody>\n",
       "    <tr>\n",
       "      <th>Founded</th>\n",
       "      <td>60.0</td>\n",
       "      <td>2014.533333</td>\n",
       "      <td>2.937003</td>\n",
       "      <td>2004.0</td>\n",
       "      <td>2013.0</td>\n",
       "      <td>2015.0</td>\n",
       "      <td>2016.25</td>\n",
       "      <td>2019.0</td>\n",
       "    </tr>\n",
       "  </tbody>\n",
       "</table>\n",
       "</div>"
      ],
      "text/plain": [
       "         count         mean       std     min     25%     50%      75%     max\n",
       "Founded   60.0  2014.533333  2.937003  2004.0  2013.0  2015.0  2016.25  2019.0"
      ]
     },
     "execution_count": 700,
     "metadata": {},
     "output_type": "execute_result"
    }
   ],
   "source": [
    "data4.describe().T"
   ]
  },
  {
   "cell_type": "code",
   "execution_count": 701,
   "metadata": {},
   "outputs": [
    {
     "name": "stdout",
     "output_type": "stream",
     "text": [
      "<class 'pandas.core.frame.DataFrame'>\n",
      "RangeIndex: 89 entries, 0 to 88\n",
      "Data columns (total 9 columns):\n",
      " #   Column         Non-Null Count  Dtype  \n",
      "---  ------         --------------  -----  \n",
      " 0   Company/Brand  89 non-null     object \n",
      " 1   Founded        60 non-null     float64\n",
      " 2   HeadQuarter    70 non-null     object \n",
      " 3   Sector         84 non-null     object \n",
      " 4   What it does   89 non-null     object \n",
      " 5   Founders       86 non-null     object \n",
      " 6   Investor       89 non-null     object \n",
      " 7   Amount($)      89 non-null     object \n",
      " 8   Stage          43 non-null     object \n",
      "dtypes: float64(1), object(8)\n",
      "memory usage: 6.4+ KB\n"
     ]
    }
   ],
   "source": [
    "data4.info()"
   ]
  },
  {
   "cell_type": "code",
   "execution_count": 702,
   "metadata": {},
   "outputs": [
    {
     "data": {
      "text/plain": [
       "(89, 9)"
      ]
     },
     "execution_count": 702,
     "metadata": {},
     "output_type": "execute_result"
    }
   ],
   "source": [
    "data4.shape"
   ]
  },
  {
   "cell_type": "code",
   "execution_count": 703,
   "metadata": {},
   "outputs": [
    {
     "name": "stdout",
     "output_type": "stream",
     "text": [
      "Company/Brand     object\n",
      "Founded          float64\n",
      "HeadQuarter       object\n",
      "Sector            object\n",
      "What it does      object\n",
      "Founders          object\n",
      "Investor          object\n",
      "Amount($)         object\n",
      "Stage             object\n",
      "dtype: object\n"
     ]
    }
   ],
   "source": [
    "print(data4.dtypes)"
   ]
  },
  {
   "cell_type": "code",
   "execution_count": 704,
   "metadata": {},
   "outputs": [
    {
     "data": {
      "text/plain": [
       "0"
      ]
     },
     "execution_count": 704,
     "metadata": {},
     "output_type": "execute_result"
    }
   ],
   "source": [
    "data4.duplicated().sum()"
   ]
  },
  {
   "cell_type": "code",
   "execution_count": 705,
   "metadata": {},
   "outputs": [
    {
     "data": {
      "text/plain": [
       "Company/Brand     0\n",
       "Founded          29\n",
       "HeadQuarter      19\n",
       "Sector            5\n",
       "What it does      0\n",
       "Founders          3\n",
       "Investor          0\n",
       "Amount($)         0\n",
       "Stage            46\n",
       "dtype: int64"
      ]
     },
     "execution_count": 705,
     "metadata": {},
     "output_type": "execute_result"
    }
   ],
   "source": [
    "data4.isnull().sum()"
   ]
  }
 ],
 "metadata": {
  "kernelspec": {
   "display_name": "Python 3",
   "language": "python",
   "name": "python3"
  },
  "language_info": {
   "codemirror_mode": {
    "name": "ipython",
    "version": 3
   },
   "file_extension": ".py",
   "mimetype": "text/x-python",
   "name": "python",
   "nbconvert_exporter": "python",
   "pygments_lexer": "ipython3",
   "version": "3.12.3"
  }
 },
 "nbformat": 4,
 "nbformat_minor": 2
}
